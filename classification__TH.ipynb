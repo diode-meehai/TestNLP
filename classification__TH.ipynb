{
  "nbformat": 4,
  "nbformat_minor": 0,
  "metadata": {
    "colab": {
      "provenance": []
    },
    "kernelspec": {
      "name": "python3",
      "display_name": "Python 3"
    },
    "language_info": {
      "name": "python"
    },
    "accelerator": "TPU"
  },
  "cells": [
    {
      "cell_type": "code",
      "execution_count": 1,
      "metadata": {
        "colab": {
          "base_uri": "https://localhost:8080/"
        },
        "id": "CofO76KtU1lo",
        "outputId": "a3b7c356-f103-4347-df41-0c203608098b"
      },
      "outputs": [
        {
          "output_type": "stream",
          "name": "stdout",
          "text": [
            "Mounted at /content/drive\n"
          ]
        }
      ],
      "source": [
        "from google.colab import drive\n",
        "drive.mount('/content/drive')"
      ]
    },
    {
      "cell_type": "code",
      "source": [
        "!pip install attacut"
      ],
      "metadata": {
        "colab": {
          "base_uri": "https://localhost:8080/"
        },
        "id": "V2RO1GG9bObc",
        "outputId": "ffe92194-ed73-4d23-852d-92a97d98f1ed"
      },
      "execution_count": 2,
      "outputs": [
        {
          "output_type": "stream",
          "name": "stdout",
          "text": [
            "Collecting attacut\n",
            "  Downloading attacut-1.0.6-py3-none-any.whl (1.3 MB)\n",
            "\u001b[2K     \u001b[90m━━━━━━━━━━━━━━━━━━━━━━━━━━━━━━━━━━━━━━━━\u001b[0m \u001b[32m1.3/1.3 MB\u001b[0m \u001b[31m2.8 MB/s\u001b[0m eta \u001b[36m0:00:00\u001b[0m\n",
            "\u001b[?25hCollecting docopt>=0.6.2 (from attacut)\n",
            "  Downloading docopt-0.6.2.tar.gz (25 kB)\n",
            "  Preparing metadata (setup.py) ... \u001b[?25l\u001b[?25hdone\n",
            "Collecting fire>=0.1.3 (from attacut)\n",
            "  Downloading fire-0.5.0.tar.gz (88 kB)\n",
            "\u001b[2K     \u001b[90m━━━━━━━━━━━━━━━━━━━━━━━━━━━━━━━━━━━━━━━━\u001b[0m \u001b[32m88.3/88.3 kB\u001b[0m \u001b[31m8.8 MB/s\u001b[0m eta \u001b[36m0:00:00\u001b[0m\n",
            "\u001b[?25h  Preparing metadata (setup.py) ... \u001b[?25l\u001b[?25hdone\n",
            "Collecting nptyping>=0.2.0 (from attacut)\n",
            "  Downloading nptyping-2.5.0-py3-none-any.whl (37 kB)\n",
            "Requirement already satisfied: numpy>=1.17.0 in /usr/local/lib/python3.10/dist-packages (from attacut) (1.23.5)\n",
            "Requirement already satisfied: pyyaml>=5.1.2 in /usr/local/lib/python3.10/dist-packages (from attacut) (6.0.1)\n",
            "Requirement already satisfied: six>=1.12.0 in /usr/local/lib/python3.10/dist-packages (from attacut) (1.16.0)\n",
            "Collecting ssg>=0.0.4 (from attacut)\n",
            "  Downloading ssg-0.0.8-py3-none-any.whl (473 kB)\n",
            "\u001b[2K     \u001b[90m━━━━━━━━━━━━━━━━━━━━━━━━━━━━━━━━━━━━━━━━\u001b[0m \u001b[32m473.8/473.8 kB\u001b[0m \u001b[31m8.9 MB/s\u001b[0m eta \u001b[36m0:00:00\u001b[0m\n",
            "\u001b[?25hRequirement already satisfied: torch>=1.2.0 in /usr/local/lib/python3.10/dist-packages (from attacut) (2.1.0+cu121)\n",
            "Requirement already satisfied: termcolor in /usr/local/lib/python3.10/dist-packages (from fire>=0.1.3->attacut) (2.4.0)\n",
            "Collecting python-crfsuite>=0.9.6 (from ssg>=0.0.4->attacut)\n",
            "  Downloading python_crfsuite-0.9.10-cp310-cp310-manylinux_2_17_x86_64.manylinux2014_x86_64.whl (1.1 MB)\n",
            "\u001b[2K     \u001b[90m━━━━━━━━━━━━━━━━━━━━━━━━━━━━━━━━━━━━━━━━\u001b[0m \u001b[32m1.1/1.1 MB\u001b[0m \u001b[31m9.1 MB/s\u001b[0m eta \u001b[36m0:00:00\u001b[0m\n",
            "\u001b[?25hRequirement already satisfied: tqdm>=4.32.2 in /usr/local/lib/python3.10/dist-packages (from ssg>=0.0.4->attacut) (4.66.1)\n",
            "Requirement already satisfied: filelock in /usr/local/lib/python3.10/dist-packages (from torch>=1.2.0->attacut) (3.13.1)\n",
            "Requirement already satisfied: typing-extensions in /usr/local/lib/python3.10/dist-packages (from torch>=1.2.0->attacut) (4.5.0)\n",
            "Requirement already satisfied: sympy in /usr/local/lib/python3.10/dist-packages (from torch>=1.2.0->attacut) (1.12)\n",
            "Requirement already satisfied: networkx in /usr/local/lib/python3.10/dist-packages (from torch>=1.2.0->attacut) (3.2.1)\n",
            "Requirement already satisfied: jinja2 in /usr/local/lib/python3.10/dist-packages (from torch>=1.2.0->attacut) (3.1.2)\n",
            "Requirement already satisfied: fsspec in /usr/local/lib/python3.10/dist-packages (from torch>=1.2.0->attacut) (2023.6.0)\n",
            "Requirement already satisfied: triton==2.1.0 in /usr/local/lib/python3.10/dist-packages (from torch>=1.2.0->attacut) (2.1.0)\n",
            "Requirement already satisfied: MarkupSafe>=2.0 in /usr/local/lib/python3.10/dist-packages (from jinja2->torch>=1.2.0->attacut) (2.1.3)\n",
            "Requirement already satisfied: mpmath>=0.19 in /usr/local/lib/python3.10/dist-packages (from sympy->torch>=1.2.0->attacut) (1.3.0)\n",
            "Building wheels for collected packages: docopt, fire\n",
            "  Building wheel for docopt (setup.py) ... \u001b[?25l\u001b[?25hdone\n",
            "  Created wheel for docopt: filename=docopt-0.6.2-py2.py3-none-any.whl size=13706 sha256=44a8421c7926f7e751ca38bb4589a2d4a910baf74226aba8155f6b67ee877c63\n",
            "  Stored in directory: /root/.cache/pip/wheels/fc/ab/d4/5da2067ac95b36618c629a5f93f809425700506f72c9732fac\n",
            "  Building wheel for fire (setup.py) ... \u001b[?25l\u001b[?25hdone\n",
            "  Created wheel for fire: filename=fire-0.5.0-py2.py3-none-any.whl size=116934 sha256=bb3a5523331be56e39fd7ee98c79ec74857bf5b0641f7887d3ad701e6efd7aa8\n",
            "  Stored in directory: /root/.cache/pip/wheels/90/d4/f7/9404e5db0116bd4d43e5666eaa3e70ab53723e1e3ea40c9a95\n",
            "Successfully built docopt fire\n",
            "Installing collected packages: python-crfsuite, docopt, nptyping, fire, ssg, attacut\n",
            "Successfully installed attacut-1.0.6 docopt-0.6.2 fire-0.5.0 nptyping-2.5.0 python-crfsuite-0.9.10 ssg-0.0.8\n"
          ]
        }
      ]
    },
    {
      "cell_type": "code",
      "source": [
        "import gensim\n",
        "import numpy as np\n",
        "import pandas as pd\n",
        "from sklearn.model_selection import train_test_split\n",
        "\n",
        "import gdown\n",
        "import tensorflow as tf\n",
        "from tensorflow import keras\n",
        "import numpy as np\n",
        "import re\n",
        "import math\n",
        "\n",
        "# !pip install attacut\n",
        "from attacut import tokenize\n",
        "\n",
        "from tensorflow.keras.utils import to_categorical\n",
        "# !pip install pythainlp\n",
        "# from pythainlp.tokenize import word_tokenize\n",
        "\n",
        "from matplotlib import pyplot\n",
        "from keras.models import load_model\n",
        "from keras.callbacks import ModelCheckpoint\n",
        "from sklearn.metrics import accuracy_score"
      ],
      "metadata": {
        "id": "lqN7HWuLU7QV"
      },
      "execution_count": 41,
      "outputs": []
    },
    {
      "cell_type": "code",
      "source": [
        "import tensorflow as tf\n",
        "from tensorflow.keras.models import Sequential\n",
        "from tensorflow.keras.layers import LSTM, Dense, TimeDistributed, Conv2D,MaxPooling2D,Flatten,Reshape,Dropout, Embedding, SpatialDropout1D\n",
        "from tensorflow.keras.models import Sequential\n",
        "from tensorflow.keras.layers import Conv3D, Bidirectional\n",
        "from tensorflow.keras.layers import ConvLSTM2D\n",
        "from tensorflow.keras.layers import BatchNormalization"
      ],
      "metadata": {
        "id": "cPztkfGogwPr"
      },
      "execution_count": 4,
      "outputs": []
    },
    {
      "cell_type": "code",
      "source": [
        "# gdown.download('https://drive.google.com/uc?id=0B0ZXk88koS2KV1FJN0xRX1FxaFE&export=download',\n",
        "#                '/content/drive/MyDrive/Thai NLP sentiment analysis/pretrained_Model/th.zip', quiet=False)"
      ],
      "metadata": {
        "colab": {
          "base_uri": "https://localhost:8080/",
          "height": 105
        },
        "id": "KVJurlc7YZzD",
        "outputId": "9a456fdb-e50c-4761-b228-608155ffbd03"
      },
      "execution_count": 13,
      "outputs": [
        {
          "output_type": "stream",
          "name": "stderr",
          "text": [
            "Downloading...\n",
            "From: https://drive.google.com/uc?id=0B0ZXk88koS2KV1FJN0xRX1FxaFE&export=download\n",
            "To: /content/drive/MyDrive/Thai NLP sentiment analysis/pretrained_Model/th.zip\n",
            "100%|██████████| 122M/122M [00:02<00:00, 41.1MB/s]\n"
          ]
        },
        {
          "output_type": "execute_result",
          "data": {
            "text/plain": [
              "'/content/drive/MyDrive/Thai NLP sentiment analysis/pretrained_Model/th.zip'"
            ],
            "application/vnd.google.colaboratory.intrinsic+json": {
              "type": "string"
            }
          },
          "metadata": {},
          "execution_count": 13
        }
      ]
    },
    {
      "cell_type": "code",
      "source": [
        "# !unzip '/content/drive/MyDrive/Thai NLP sentiment analysis/pretrained_Model/th.zip' -d '/content/drive/MyDrive/Thai NLP sentiment analysis/pretrained_Model'"
      ],
      "metadata": {
        "colab": {
          "base_uri": "https://localhost:8080/"
        },
        "id": "3gsAAHOgYl6Q",
        "outputId": "05024c4d-b9f3-4744-fa07-7cacc9c85891"
      },
      "execution_count": 14,
      "outputs": [
        {
          "output_type": "stream",
          "name": "stdout",
          "text": [
            "Archive:  /content/drive/MyDrive/Thai NLP sentiment analysis/pretrained_Model/th.zip\n",
            "replace /content/drive/MyDrive/Thai NLP sentiment analysis/pretrained_Model/th.bin? [y]es, [n]o, [A]ll, [N]one, [r]ename: n\n",
            "replace /content/drive/MyDrive/Thai NLP sentiment analysis/pretrained_Model/th.tsv? [y]es, [n]o, [A]ll, [N]one, [r]ename: n\n"
          ]
        }
      ]
    },
    {
      "cell_type": "code",
      "source": [],
      "metadata": {
        "id": "7qAJJH_rZk8s"
      },
      "execution_count": 14,
      "outputs": []
    },
    {
      "cell_type": "code",
      "source": [
        "messages = pd.read_csv('/content/drive/MyDrive/Thai NLP sentiment analysis/Dataset/Train01_Clear.csv')# [:5000]\n",
        "messages"
      ],
      "metadata": {
        "colab": {
          "base_uri": "https://localhost:8080/",
          "height": 423
        },
        "id": "suvTTrf-WCdl",
        "outputId": "c3576ae1-46ed-4760-9276-1903256c4344"
      },
      "execution_count": 5,
      "outputs": [
        {
          "output_type": "execute_result",
          "data": {
            "text/plain": [
              "       Unnamed: 0     Class                                               Text\n",
              "0               0   neutral  ประเทศ เรา ผลิต และ ส่งออก ยาสูบ เยอะ สุด ใน โ...\n",
              "1               1   neutral                                                 คะ\n",
              "2               2  negative                อิ เหี้ย ออม ทำ กู อยาก กิน เอ็ม เค\n",
              "3               4   neutral                         สวัสดี วัน พุธ แนน อะไร นะ\n",
              "4               5   neutral  ก้อน ขอบพระคุณ มาก นะ คร้าบ ที่ มาหา ก้อน และ ...\n",
              "...           ...       ...                                                ...\n",
              "23286       24058  negative                                 แม่ ง ควาย ล้วน นน\n",
              "23287       24059  negative                   ดอย สุเทพ น้อง ง ไป หมด แล้ว ววว\n",
              "23288       24060  negative                      ค่า ชุด อาจจะ แพง กว่า ส่วนลด\n",
              "23289       24061   neutral                          รัฐ ต้องการ แค่ ภาษี ครับ\n",
              "23290       24062   neutral  ได้ พัฒนา ระบบ เข้าสู่ รุ่น ที่สอง แล้ว มา ดู ...\n",
              "\n",
              "[23291 rows x 3 columns]"
            ],
            "text/html": [
              "\n",
              "  <div id=\"df-9dbaf3c3-9d35-4b22-afa1-00dc7d5e86cc\" class=\"colab-df-container\">\n",
              "    <div>\n",
              "<style scoped>\n",
              "    .dataframe tbody tr th:only-of-type {\n",
              "        vertical-align: middle;\n",
              "    }\n",
              "\n",
              "    .dataframe tbody tr th {\n",
              "        vertical-align: top;\n",
              "    }\n",
              "\n",
              "    .dataframe thead th {\n",
              "        text-align: right;\n",
              "    }\n",
              "</style>\n",
              "<table border=\"1\" class=\"dataframe\">\n",
              "  <thead>\n",
              "    <tr style=\"text-align: right;\">\n",
              "      <th></th>\n",
              "      <th>Unnamed: 0</th>\n",
              "      <th>Class</th>\n",
              "      <th>Text</th>\n",
              "    </tr>\n",
              "  </thead>\n",
              "  <tbody>\n",
              "    <tr>\n",
              "      <th>0</th>\n",
              "      <td>0</td>\n",
              "      <td>neutral</td>\n",
              "      <td>ประเทศ เรา ผลิต และ ส่งออก ยาสูบ เยอะ สุด ใน โ...</td>\n",
              "    </tr>\n",
              "    <tr>\n",
              "      <th>1</th>\n",
              "      <td>1</td>\n",
              "      <td>neutral</td>\n",
              "      <td>คะ</td>\n",
              "    </tr>\n",
              "    <tr>\n",
              "      <th>2</th>\n",
              "      <td>2</td>\n",
              "      <td>negative</td>\n",
              "      <td>อิ เหี้ย ออม ทำ กู อยาก กิน เอ็ม เค</td>\n",
              "    </tr>\n",
              "    <tr>\n",
              "      <th>3</th>\n",
              "      <td>4</td>\n",
              "      <td>neutral</td>\n",
              "      <td>สวัสดี วัน พุธ แนน อะไร นะ</td>\n",
              "    </tr>\n",
              "    <tr>\n",
              "      <th>4</th>\n",
              "      <td>5</td>\n",
              "      <td>neutral</td>\n",
              "      <td>ก้อน ขอบพระคุณ มาก นะ คร้าบ ที่ มาหา ก้อน และ ...</td>\n",
              "    </tr>\n",
              "    <tr>\n",
              "      <th>...</th>\n",
              "      <td>...</td>\n",
              "      <td>...</td>\n",
              "      <td>...</td>\n",
              "    </tr>\n",
              "    <tr>\n",
              "      <th>23286</th>\n",
              "      <td>24058</td>\n",
              "      <td>negative</td>\n",
              "      <td>แม่ ง ควาย ล้วน นน</td>\n",
              "    </tr>\n",
              "    <tr>\n",
              "      <th>23287</th>\n",
              "      <td>24059</td>\n",
              "      <td>negative</td>\n",
              "      <td>ดอย สุเทพ น้อง ง ไป หมด แล้ว ววว</td>\n",
              "    </tr>\n",
              "    <tr>\n",
              "      <th>23288</th>\n",
              "      <td>24060</td>\n",
              "      <td>negative</td>\n",
              "      <td>ค่า ชุด อาจจะ แพง กว่า ส่วนลด</td>\n",
              "    </tr>\n",
              "    <tr>\n",
              "      <th>23289</th>\n",
              "      <td>24061</td>\n",
              "      <td>neutral</td>\n",
              "      <td>รัฐ ต้องการ แค่ ภาษี ครับ</td>\n",
              "    </tr>\n",
              "    <tr>\n",
              "      <th>23290</th>\n",
              "      <td>24062</td>\n",
              "      <td>neutral</td>\n",
              "      <td>ได้ พัฒนา ระบบ เข้าสู่ รุ่น ที่สอง แล้ว มา ดู ...</td>\n",
              "    </tr>\n",
              "  </tbody>\n",
              "</table>\n",
              "<p>23291 rows × 3 columns</p>\n",
              "</div>\n",
              "    <div class=\"colab-df-buttons\">\n",
              "\n",
              "  <div class=\"colab-df-container\">\n",
              "    <button class=\"colab-df-convert\" onclick=\"convertToInteractive('df-9dbaf3c3-9d35-4b22-afa1-00dc7d5e86cc')\"\n",
              "            title=\"Convert this dataframe to an interactive table.\"\n",
              "            style=\"display:none;\">\n",
              "\n",
              "  <svg xmlns=\"http://www.w3.org/2000/svg\" height=\"24px\" viewBox=\"0 -960 960 960\">\n",
              "    <path d=\"M120-120v-720h720v720H120Zm60-500h600v-160H180v160Zm220 220h160v-160H400v160Zm0 220h160v-160H400v160ZM180-400h160v-160H180v160Zm440 0h160v-160H620v160ZM180-180h160v-160H180v160Zm440 0h160v-160H620v160Z\"/>\n",
              "  </svg>\n",
              "    </button>\n",
              "\n",
              "  <style>\n",
              "    .colab-df-container {\n",
              "      display:flex;\n",
              "      gap: 12px;\n",
              "    }\n",
              "\n",
              "    .colab-df-convert {\n",
              "      background-color: #E8F0FE;\n",
              "      border: none;\n",
              "      border-radius: 50%;\n",
              "      cursor: pointer;\n",
              "      display: none;\n",
              "      fill: #1967D2;\n",
              "      height: 32px;\n",
              "      padding: 0 0 0 0;\n",
              "      width: 32px;\n",
              "    }\n",
              "\n",
              "    .colab-df-convert:hover {\n",
              "      background-color: #E2EBFA;\n",
              "      box-shadow: 0px 1px 2px rgba(60, 64, 67, 0.3), 0px 1px 3px 1px rgba(60, 64, 67, 0.15);\n",
              "      fill: #174EA6;\n",
              "    }\n",
              "\n",
              "    .colab-df-buttons div {\n",
              "      margin-bottom: 4px;\n",
              "    }\n",
              "\n",
              "    [theme=dark] .colab-df-convert {\n",
              "      background-color: #3B4455;\n",
              "      fill: #D2E3FC;\n",
              "    }\n",
              "\n",
              "    [theme=dark] .colab-df-convert:hover {\n",
              "      background-color: #434B5C;\n",
              "      box-shadow: 0px 1px 3px 1px rgba(0, 0, 0, 0.15);\n",
              "      filter: drop-shadow(0px 1px 2px rgba(0, 0, 0, 0.3));\n",
              "      fill: #FFFFFF;\n",
              "    }\n",
              "  </style>\n",
              "\n",
              "    <script>\n",
              "      const buttonEl =\n",
              "        document.querySelector('#df-9dbaf3c3-9d35-4b22-afa1-00dc7d5e86cc button.colab-df-convert');\n",
              "      buttonEl.style.display =\n",
              "        google.colab.kernel.accessAllowed ? 'block' : 'none';\n",
              "\n",
              "      async function convertToInteractive(key) {\n",
              "        const element = document.querySelector('#df-9dbaf3c3-9d35-4b22-afa1-00dc7d5e86cc');\n",
              "        const dataTable =\n",
              "          await google.colab.kernel.invokeFunction('convertToInteractive',\n",
              "                                                    [key], {});\n",
              "        if (!dataTable) return;\n",
              "\n",
              "        const docLinkHtml = 'Like what you see? Visit the ' +\n",
              "          '<a target=\"_blank\" href=https://colab.research.google.com/notebooks/data_table.ipynb>data table notebook</a>'\n",
              "          + ' to learn more about interactive tables.';\n",
              "        element.innerHTML = '';\n",
              "        dataTable['output_type'] = 'display_data';\n",
              "        await google.colab.output.renderOutput(dataTable, element);\n",
              "        const docLink = document.createElement('div');\n",
              "        docLink.innerHTML = docLinkHtml;\n",
              "        element.appendChild(docLink);\n",
              "      }\n",
              "    </script>\n",
              "  </div>\n",
              "\n",
              "\n",
              "<div id=\"df-6d86f292-4c7e-4dfc-a54a-3f11375af362\">\n",
              "  <button class=\"colab-df-quickchart\" onclick=\"quickchart('df-6d86f292-4c7e-4dfc-a54a-3f11375af362')\"\n",
              "            title=\"Suggest charts\"\n",
              "            style=\"display:none;\">\n",
              "\n",
              "<svg xmlns=\"http://www.w3.org/2000/svg\" height=\"24px\"viewBox=\"0 0 24 24\"\n",
              "     width=\"24px\">\n",
              "    <g>\n",
              "        <path d=\"M19 3H5c-1.1 0-2 .9-2 2v14c0 1.1.9 2 2 2h14c1.1 0 2-.9 2-2V5c0-1.1-.9-2-2-2zM9 17H7v-7h2v7zm4 0h-2V7h2v10zm4 0h-2v-4h2v4z\"/>\n",
              "    </g>\n",
              "</svg>\n",
              "  </button>\n",
              "\n",
              "<style>\n",
              "  .colab-df-quickchart {\n",
              "      --bg-color: #E8F0FE;\n",
              "      --fill-color: #1967D2;\n",
              "      --hover-bg-color: #E2EBFA;\n",
              "      --hover-fill-color: #174EA6;\n",
              "      --disabled-fill-color: #AAA;\n",
              "      --disabled-bg-color: #DDD;\n",
              "  }\n",
              "\n",
              "  [theme=dark] .colab-df-quickchart {\n",
              "      --bg-color: #3B4455;\n",
              "      --fill-color: #D2E3FC;\n",
              "      --hover-bg-color: #434B5C;\n",
              "      --hover-fill-color: #FFFFFF;\n",
              "      --disabled-bg-color: #3B4455;\n",
              "      --disabled-fill-color: #666;\n",
              "  }\n",
              "\n",
              "  .colab-df-quickchart {\n",
              "    background-color: var(--bg-color);\n",
              "    border: none;\n",
              "    border-radius: 50%;\n",
              "    cursor: pointer;\n",
              "    display: none;\n",
              "    fill: var(--fill-color);\n",
              "    height: 32px;\n",
              "    padding: 0;\n",
              "    width: 32px;\n",
              "  }\n",
              "\n",
              "  .colab-df-quickchart:hover {\n",
              "    background-color: var(--hover-bg-color);\n",
              "    box-shadow: 0 1px 2px rgba(60, 64, 67, 0.3), 0 1px 3px 1px rgba(60, 64, 67, 0.15);\n",
              "    fill: var(--button-hover-fill-color);\n",
              "  }\n",
              "\n",
              "  .colab-df-quickchart-complete:disabled,\n",
              "  .colab-df-quickchart-complete:disabled:hover {\n",
              "    background-color: var(--disabled-bg-color);\n",
              "    fill: var(--disabled-fill-color);\n",
              "    box-shadow: none;\n",
              "  }\n",
              "\n",
              "  .colab-df-spinner {\n",
              "    border: 2px solid var(--fill-color);\n",
              "    border-color: transparent;\n",
              "    border-bottom-color: var(--fill-color);\n",
              "    animation:\n",
              "      spin 1s steps(1) infinite;\n",
              "  }\n",
              "\n",
              "  @keyframes spin {\n",
              "    0% {\n",
              "      border-color: transparent;\n",
              "      border-bottom-color: var(--fill-color);\n",
              "      border-left-color: var(--fill-color);\n",
              "    }\n",
              "    20% {\n",
              "      border-color: transparent;\n",
              "      border-left-color: var(--fill-color);\n",
              "      border-top-color: var(--fill-color);\n",
              "    }\n",
              "    30% {\n",
              "      border-color: transparent;\n",
              "      border-left-color: var(--fill-color);\n",
              "      border-top-color: var(--fill-color);\n",
              "      border-right-color: var(--fill-color);\n",
              "    }\n",
              "    40% {\n",
              "      border-color: transparent;\n",
              "      border-right-color: var(--fill-color);\n",
              "      border-top-color: var(--fill-color);\n",
              "    }\n",
              "    60% {\n",
              "      border-color: transparent;\n",
              "      border-right-color: var(--fill-color);\n",
              "    }\n",
              "    80% {\n",
              "      border-color: transparent;\n",
              "      border-right-color: var(--fill-color);\n",
              "      border-bottom-color: var(--fill-color);\n",
              "    }\n",
              "    90% {\n",
              "      border-color: transparent;\n",
              "      border-bottom-color: var(--fill-color);\n",
              "    }\n",
              "  }\n",
              "</style>\n",
              "\n",
              "  <script>\n",
              "    async function quickchart(key) {\n",
              "      const quickchartButtonEl =\n",
              "        document.querySelector('#' + key + ' button');\n",
              "      quickchartButtonEl.disabled = true;  // To prevent multiple clicks.\n",
              "      quickchartButtonEl.classList.add('colab-df-spinner');\n",
              "      try {\n",
              "        const charts = await google.colab.kernel.invokeFunction(\n",
              "            'suggestCharts', [key], {});\n",
              "      } catch (error) {\n",
              "        console.error('Error during call to suggestCharts:', error);\n",
              "      }\n",
              "      quickchartButtonEl.classList.remove('colab-df-spinner');\n",
              "      quickchartButtonEl.classList.add('colab-df-quickchart-complete');\n",
              "    }\n",
              "    (() => {\n",
              "      let quickchartButtonEl =\n",
              "        document.querySelector('#df-6d86f292-4c7e-4dfc-a54a-3f11375af362 button');\n",
              "      quickchartButtonEl.style.display =\n",
              "        google.colab.kernel.accessAllowed ? 'block' : 'none';\n",
              "    })();\n",
              "  </script>\n",
              "</div>\n",
              "    </div>\n",
              "  </div>\n"
            ]
          },
          "metadata": {},
          "execution_count": 5
        }
      ]
    },
    {
      "cell_type": "code",
      "source": [],
      "metadata": {
        "id": "cCacHqBb2mjp"
      },
      "execution_count": null,
      "outputs": []
    },
    {
      "cell_type": "code",
      "source": [
        "# messages_Lean = messages\n",
        "# messages_Lean.drop(messages_Lean.loc[messages_Lean['Class']==neutral].index, inplace=True)\n",
        "# messages_Lean"
      ],
      "metadata": {
        "id": "k054CoMJ3Pfc"
      },
      "execution_count": null,
      "outputs": []
    },
    {
      "cell_type": "code",
      "source": [],
      "metadata": {
        "id": "f6vsPtYg3Ph6"
      },
      "execution_count": null,
      "outputs": []
    },
    {
      "cell_type": "code",
      "source": [
        "Xtrain = messages['Text'].tolist()\n",
        "Xtrain[:5]"
      ],
      "metadata": {
        "colab": {
          "base_uri": "https://localhost:8080/"
        },
        "id": "kyDHp9dyWOI1",
        "outputId": "5c3d4d5e-d424-4d88-e32b-ae66d79c3ccd"
      },
      "execution_count": 6,
      "outputs": [
        {
          "output_type": "execute_result",
          "data": {
            "text/plain": [
              "['ประเทศ เรา ผลิต และ ส่งออก ยาสูบ เยอะ สุด ใน โลก จิง ป่าว คับ',\n",
              " 'คะ',\n",
              " 'อิ เหี้ย ออม ทำ กู อยาก กิน เอ็ม เค',\n",
              " 'สวัสดี วัน พุธ แนน อะไร นะ',\n",
              " 'ก้อน ขอบพระคุณ มาก นะ คร้าบ ที่ มาหา ก้อน และ ชมเชย การ บริการ ของ พนักงาน อีกด้วย']"
            ]
          },
          "metadata": {},
          "execution_count": 6
        }
      ]
    },
    {
      "cell_type": "code",
      "source": [
        "Xtrain[0]"
      ],
      "metadata": {
        "colab": {
          "base_uri": "https://localhost:8080/",
          "height": 35
        },
        "id": "JoL01Wy15Onx",
        "outputId": "c32a5a44-42eb-4b17-aa05-45a51ca59122"
      },
      "execution_count": 43,
      "outputs": [
        {
          "output_type": "execute_result",
          "data": {
            "text/plain": [
              "'ประเทศ เรา ผลิต และ ส่งออก ยาสูบ เยอะ สุด ใน โลก จิง ป่าว คับ'"
            ],
            "application/vnd.google.colaboratory.intrinsic+json": {
              "type": "string"
            }
          },
          "metadata": {},
          "execution_count": 43
        }
      ]
    },
    {
      "cell_type": "code",
      "source": [
        "# np.array([0,0,0,1,1,1]).shape"
      ],
      "metadata": {
        "id": "5IRmpBIKfMMd"
      },
      "execution_count": 154,
      "outputs": []
    },
    {
      "cell_type": "code",
      "source": [
        "# Ytrain = messages['Class'].values\n",
        "# print(Ytrain[:5])\n",
        "# print(Ytrain.shape)"
      ],
      "metadata": {
        "colab": {
          "base_uri": "https://localhost:8080/"
        },
        "id": "BKOJafliWbuM",
        "outputId": "23ba2ac0-b981-490f-de86-80d845c970ce"
      },
      "execution_count": 18,
      "outputs": [
        {
          "output_type": "stream",
          "name": "stdout",
          "text": [
            "['neutral' 'neutral' 'negative' 'neutral' 'neutral']\n",
            "(23291,)\n"
          ]
        }
      ]
    },
    {
      "cell_type": "code",
      "source": [
        "messages['Class onthot']=messages['Class'].map({'neutral':0, 'negative':1, 'positive':2})\n",
        "\n",
        "YY = np.array(messages['Class onthot'])\n",
        "NUM_CLASSES = len(np.unique(YY))\n",
        "print('NUM_CLASSES: ', NUM_CLASSES)\n",
        "\n",
        "# YY = YY.reshape((YY.shape[0], 1)) # 100, 21, 63\n",
        "\n",
        "Ytrain = to_categorical(YY).astype(int)\n",
        "print(Ytrain.shape)\n",
        "print(Ytrain)"
      ],
      "metadata": {
        "colab": {
          "base_uri": "https://localhost:8080/"
        },
        "id": "K832KiCXfou-",
        "outputId": "aeb0f131-409c-494a-9bf1-b9983f5f687f"
      },
      "execution_count": 7,
      "outputs": [
        {
          "output_type": "stream",
          "name": "stdout",
          "text": [
            "NUM_CLASSES:  3\n",
            "(23291, 3)\n",
            "[[1 0 0]\n",
            " [1 0 0]\n",
            " [0 1 0]\n",
            " ...\n",
            " [0 1 0]\n",
            " [1 0 0]\n",
            " [1 0 0]]\n"
          ]
        }
      ]
    },
    {
      "cell_type": "code",
      "source": [],
      "metadata": {
        "id": "r3VaRoPOYOR-"
      },
      "execution_count": 19,
      "outputs": []
    },
    {
      "cell_type": "code",
      "source": [
        "# wordvector Embedding --> th.tsv"
      ],
      "metadata": {
        "id": "VIsO0VaaZruj"
      },
      "execution_count": 20,
      "outputs": []
    },
    {
      "cell_type": "code",
      "source": [
        "with open('/content/drive/MyDrive/Thai NLP sentiment analysis/pretrained_Model/th.tsv') as f:\n",
        "  vocab = []\n",
        "  W = None\n",
        "  vec = ''\n",
        "  for line in f.readlines():\n",
        "    temp = line.split('\\t')\n",
        "    if len(temp) == 3:\n",
        "      vocab.append(temp[1])\n",
        "      if int(temp[0]) % 1000 == 0:\n",
        "        print('\\r' + temp[0], end='')\n",
        "      wordvector = np.fromstring(re.sub('\\s+', ' ', vec)[1:-1], sep=' ', dtype=np.float32)\n",
        "      if len(wordvector) > 0:\n",
        "        if W is None:\n",
        "          W = wordvector.copy()\n",
        "        else:\n",
        "          W = np.vstack((W, wordvector))\n",
        "      vec = temp[-1]\n",
        "    elif len(temp) == 1:\n",
        "      vec += temp[-1]\n",
        "  W = np.vstack((W, wordvector))\n",
        "print('\\n')\n",
        "print(len(vocab))\n",
        "print(W.shape)"
      ],
      "metadata": {
        "colab": {
          "base_uri": "https://localhost:8080/"
        },
        "id": "Jw2AQfNNZpRD",
        "outputId": "e9923870-ca65-4146-b605-48120d4a2dba"
      },
      "execution_count": 8,
      "outputs": [
        {
          "output_type": "stream",
          "name": "stdout",
          "text": [
            "\r0"
          ]
        },
        {
          "output_type": "stream",
          "name": "stderr",
          "text": [
            "<ipython-input-8-1db8993b9877>:11: DeprecationWarning: string or file could not be read to its end due to unmatched data; this will raise a ValueError in the future.\n",
            "  wordvector = np.fromstring(re.sub('\\s+', ' ', vec)[1:-1], sep=' ', dtype=np.float32)\n"
          ]
        },
        {
          "output_type": "stream",
          "name": "stdout",
          "text": [
            "30000\n",
            "\n",
            "30225\n",
            "(30225, 300)\n"
          ]
        }
      ]
    },
    {
      "cell_type": "code",
      "source": [
        "vocab[:10]"
      ],
      "metadata": {
        "colab": {
          "base_uri": "https://localhost:8080/"
        },
        "id": "Vb0NUj36avGM",
        "outputId": "aae24e43-50fb-47ee-bb2b-8d37f5610dc9"
      },
      "execution_count": 9,
      "outputs": [
        {
          "output_type": "execute_result",
          "data": {
            "text/plain": [
              "['ที่', 'ใน', 'เป็น', 'การ', 'และ', '.', 'ของ', 'มี', 'ได้', 'จาก']"
            ]
          },
          "metadata": {},
          "execution_count": 9
        }
      ]
    },
    {
      "cell_type": "code",
      "source": [
        "W[0]"
      ],
      "metadata": {
        "colab": {
          "base_uri": "https://localhost:8080/"
        },
        "id": "4W0pIxXYaytT",
        "outputId": "47c8b407-a2f5-4d27-880d-e39516efac5e"
      },
      "execution_count": 10,
      "outputs": [
        {
          "output_type": "execute_result",
          "data": {
            "text/plain": [
              "array([ 0.5111534 , -0.42602733, -1.1047213 , -0.09861032, -0.7959196 ,\n",
              "       -0.04069895, -0.4751913 , -2.4259894 , -0.9154915 , -0.6981973 ,\n",
              "       -1.4204978 ,  0.41850504,  0.10783649, -1.1551229 ,  0.84297925,\n",
              "        0.21317165, -0.8573801 ,  0.13308409, -1.5027136 , -0.3680748 ,\n",
              "        0.17844827, -0.32479113, -0.02270988,  1.1426282 , -0.7670676 ,\n",
              "        0.9499072 ,  0.8629837 , -1.115946  ,  1.8497207 , -0.7477565 ,\n",
              "       -0.98457634,  0.62077665, -1.044819  ,  0.49659768,  0.7527551 ,\n",
              "        0.3008537 ,  0.49309847,  1.252389  ,  1.3147308 , -0.05037038,\n",
              "        2.0898983 , -0.83630407,  0.72436315, -0.4093991 ,  0.8712473 ,\n",
              "       -0.35788864, -2.954445  ,  0.6072951 ,  0.45909956,  0.6013222 ,\n",
              "       -0.3339661 ,  0.33911785,  0.07171268,  0.5284492 , -0.17997597,\n",
              "       -0.07178577, -0.8013349 , -0.9025106 ,  0.43145105, -0.17078198,\n",
              "       -0.10902111, -0.7228254 ,  1.306308  , -0.5081288 , -0.12411323,\n",
              "       -0.7293398 ,  0.98485565,  0.8211375 ,  1.4071932 , -0.33054036,\n",
              "        0.01167109, -0.0410863 ,  1.4822497 ,  0.7587435 , -0.85956496,\n",
              "        1.6727327 , -0.4120313 ,  0.12313485, -0.26720244, -2.0115018 ,\n",
              "       -0.51323116,  0.01703308,  2.255241  ,  0.545621  ,  1.2719976 ,\n",
              "        1.75699   , -0.0873535 , -1.422989  , -0.7892277 ,  0.5942037 ,\n",
              "       -0.23979011, -1.2798274 ,  2.2641315 , -0.5505637 , -0.00969669,\n",
              "        0.23803622, -1.0395296 ,  0.57283115, -1.6444407 , -0.09371309,\n",
              "        0.6193574 ,  1.9902093 ,  0.7464225 ,  2.6475275 , -0.11046588,\n",
              "        0.33218935, -0.16031459, -0.8172543 , -0.5062395 , -0.42640746,\n",
              "       -0.3582777 ,  0.70799357,  2.1022146 , -1.9902083 , -0.01190034,\n",
              "        0.79777616, -0.85107654, -0.97207874, -1.2697245 ,  0.68626374,\n",
              "        1.3307021 , -0.05164878,  0.8209868 , -0.18834408,  0.35676584,\n",
              "        0.873855  , -0.80825436, -0.78149486,  0.48459867,  0.16823076,\n",
              "       -0.43863368, -0.13395569,  0.11154592,  1.1190605 ,  0.8753239 ,\n",
              "       -0.66206986, -1.9455347 ,  0.2812653 , -0.39043972,  0.9039715 ,\n",
              "       -2.2189791 ,  0.31375387,  0.4981014 , -0.7204157 , -0.26113793,\n",
              "       -1.4586312 ,  0.28169838, -0.15333505, -0.15810984, -1.5677339 ,\n",
              "       -0.8757791 , -1.0778509 , -0.4553335 , -0.7047542 ,  0.98587954,\n",
              "        0.9080931 ,  0.58464026,  1.3680046 ,  0.15293379,  0.4632155 ,\n",
              "       -0.3403283 ,  0.46202946, -0.45125982, -0.41095433, -0.5923306 ,\n",
              "       -1.9881829 ,  0.21935894, -0.36191764, -0.90336823, -0.21831943,\n",
              "        0.6681278 ,  1.2227514 ,  1.4700077 ,  1.9635141 ,  0.7428798 ,\n",
              "        0.6512757 ,  1.0923909 ,  0.53645927, -0.84638643, -0.08289718,\n",
              "       -0.47786596, -0.6165557 ,  0.92609596,  0.9823185 ,  0.15197822,\n",
              "       -0.26131988,  0.9351871 ,  0.78415483, -0.65366817,  0.07697164,\n",
              "       -0.47038913,  0.02566586,  0.56749964, -1.8055134 ,  2.20444   ,\n",
              "        1.3844631 ,  1.3855184 , -0.11343817,  0.37595853, -0.4164393 ,\n",
              "       -0.83639663,  1.3500836 ,  0.09279116,  1.3155545 ,  1.0973473 ,\n",
              "        0.7560346 , -0.38978475,  0.69271755, -0.7639096 , -0.24899378,\n",
              "        1.5353274 ,  0.287647  , -1.4095814 ,  0.47042078,  1.3289183 ,\n",
              "       -0.3038908 , -0.98396057,  0.2625031 , -1.3920105 , -0.73308563,\n",
              "        0.51788867, -0.74130106,  1.1762297 ,  0.45802474,  1.743791  ,\n",
              "       -0.45358196, -0.35014895,  1.1332111 , -0.33499858,  0.03547225,\n",
              "        0.7254568 , -1.0533779 , -0.40141824,  0.28964773, -0.96769404,\n",
              "        0.20382634, -0.4655603 ,  0.10514531, -0.26292858, -0.04713071,\n",
              "        0.83770007, -0.42788136, -1.9195125 , -0.21082656, -0.52607757,\n",
              "        0.10523711,  0.9107158 , -0.4194466 , -1.055783  , -0.24954455,\n",
              "       -0.85314596,  0.16678417, -1.4860288 ,  0.7428326 ,  0.43390518,\n",
              "       -0.3735433 , -1.1698778 ,  0.54585654,  0.01349985,  1.056386  ,\n",
              "        0.03177658,  0.94971776,  0.18732533,  0.92611474, -0.12007526,\n",
              "       -0.08784585,  0.6704139 , -0.81927794,  2.0110574 , -0.3385574 ,\n",
              "        1.2062981 ,  0.791581  ,  1.3271594 , -0.13011503, -1.1616567 ,\n",
              "       -0.60189164, -0.26814917,  1.426673  ,  0.25102368, -0.84896845,\n",
              "        0.8160715 ,  0.26181477, -1.094834  ,  1.2087861 , -0.7846711 ,\n",
              "        1.0778259 , -0.3878431 , -0.6633016 ,  1.2535464 , -0.05865406,\n",
              "        0.39545926,  0.6402923 ,  0.3713535 ,  0.16101794, -0.916119  ,\n",
              "        0.29064557, -0.65233994, -1.6264474 , -1.0949003 , -1.5107746 ],\n",
              "      dtype=float32)"
            ]
          },
          "metadata": {},
          "execution_count": 10
        }
      ]
    },
    {
      "cell_type": "code",
      "source": [
        "def sent2idx(x):\n",
        "  xidx = []\n",
        "  for w in tokenize(x):\n",
        "    if w in vocab:\n",
        "      xidx.append(vocab.index(w))\n",
        "  return np.array(xidx)"
      ],
      "metadata": {
        "id": "7cPzTiEMZ7E9"
      },
      "execution_count": 11,
      "outputs": []
    },
    {
      "cell_type": "code",
      "source": [
        "sent2idx(Xtrain[0]) #Embedding"
      ],
      "metadata": {
        "colab": {
          "base_uri": "https://localhost:8080/"
        },
        "id": "mzv5KpaZZ-t8",
        "outputId": "86640667-7aad-428d-9cba-f04090ee64c0"
      },
      "execution_count": 12,
      "outputs": [
        {
          "output_type": "execute_result",
          "data": {
            "text/plain": [
              "array([   31,   458,   313,     4,   250,    39,  5666,  3609,   230,\n",
              "           1,   100, 11139,  5953])"
            ]
          },
          "metadata": {},
          "execution_count": 12
        }
      ]
    },
    {
      "cell_type": "code",
      "source": [
        "sent2idx(Xtrain[0]).shape"
      ],
      "metadata": {
        "colab": {
          "base_uri": "https://localhost:8080/"
        },
        "id": "ko-TxQMTbn39",
        "outputId": "6b98f733-c414-4559-cd23-80d85e1ad86c"
      },
      "execution_count": 13,
      "outputs": [
        {
          "output_type": "execute_result",
          "data": {
            "text/plain": [
              "(13,)"
            ]
          },
          "metadata": {},
          "execution_count": 13
        }
      ]
    },
    {
      "cell_type": "code",
      "source": [
        "# maxlen vocab Embedding\n",
        "Xtrain_idx = []\n",
        "maxlen = 0\n",
        "for x in Xtrain:\n",
        "  Xtrain_idx.append(sent2idx(x))\n",
        "  if len(Xtrain_idx[-1]) > maxlen:\n",
        "    maxlen = len(Xtrain_idx[-1])\n",
        "  # print(len(Xtrain_idx[-1]))"
      ],
      "metadata": {
        "id": "VxueMjRQaBLz"
      },
      "execution_count": 14,
      "outputs": []
    },
    {
      "cell_type": "code",
      "source": [
        "print(maxlen)"
      ],
      "metadata": {
        "colab": {
          "base_uri": "https://localhost:8080/"
        },
        "id": "zPldrBk9cjuS",
        "outputId": "11891515-40e3-4064-bdaf-ebd94fa13b6e"
      },
      "execution_count": 15,
      "outputs": [
        {
          "output_type": "stream",
          "name": "stdout",
          "text": [
            "473\n"
          ]
        }
      ]
    },
    {
      "cell_type": "code",
      "source": [
        "vocab[0]"
      ],
      "metadata": {
        "colab": {
          "base_uri": "https://localhost:8080/",
          "height": 35
        },
        "id": "Es3RgpP3dBI9",
        "outputId": "e157988d-2dc3-4270-c1ab-b6e989ac2ff5"
      },
      "execution_count": 16,
      "outputs": [
        {
          "output_type": "execute_result",
          "data": {
            "text/plain": [
              "'ที่'"
            ],
            "application/vnd.google.colaboratory.intrinsic+json": {
              "type": "string"
            }
          },
          "metadata": {},
          "execution_count": 16
        }
      ]
    },
    {
      "cell_type": "code",
      "source": [
        "W[0].shape"
      ],
      "metadata": {
        "colab": {
          "base_uri": "https://localhost:8080/"
        },
        "id": "vlFx2F4ueRz-",
        "outputId": "dd897378-c6dd-43cd-cc5a-be677513f684"
      },
      "execution_count": 17,
      "outputs": [
        {
          "output_type": "execute_result",
          "data": {
            "text/plain": [
              "(300,)"
            ]
          },
          "metadata": {},
          "execution_count": 17
        }
      ]
    },
    {
      "cell_type": "code",
      "source": [
        "# add vocab ''\n",
        "vocab = [''] + vocab\n",
        "print(len(vocab))"
      ],
      "metadata": {
        "colab": {
          "base_uri": "https://localhost:8080/"
        },
        "id": "vMWQcnJqdHfV",
        "outputId": "b32caab9-4972-415a-fdd8-afbb3f8eac7a"
      },
      "execution_count": 18,
      "outputs": [
        {
          "output_type": "stream",
          "name": "stdout",
          "text": [
            "30226\n"
          ]
        }
      ]
    },
    {
      "cell_type": "code",
      "source": [
        "vocab[0]"
      ],
      "metadata": {
        "colab": {
          "base_uri": "https://localhost:8080/",
          "height": 35
        },
        "id": "6anCGRuQdKfg",
        "outputId": "0a3d19af-838a-4cab-c3ca-e016140173f5"
      },
      "execution_count": 19,
      "outputs": [
        {
          "output_type": "execute_result",
          "data": {
            "text/plain": [
              "''"
            ],
            "application/vnd.google.colaboratory.intrinsic+json": {
              "type": "string"
            }
          },
          "metadata": {},
          "execution_count": 19
        }
      ]
    },
    {
      "cell_type": "code",
      "source": [
        "W = np.vstack((np.random.rand(*W[0].shape), W))"
      ],
      "metadata": {
        "id": "rPcRGeCOdNht"
      },
      "execution_count": 20,
      "outputs": []
    },
    {
      "cell_type": "code",
      "source": [
        "W.shape"
      ],
      "metadata": {
        "colab": {
          "base_uri": "https://localhost:8080/"
        },
        "id": "qT14KSTOea4M",
        "outputId": "cb6f6bd9-74b6-414c-cc5b-a0bd0d05be03"
      },
      "execution_count": 21,
      "outputs": [
        {
          "output_type": "execute_result",
          "data": {
            "text/plain": [
              "(30226, 300)"
            ]
          },
          "metadata": {},
          "execution_count": 21
        }
      ]
    },
    {
      "cell_type": "code",
      "source": [
        "print(Xtrain_idx[0].shape)\n",
        "print(Xtrain_idx[5].shape)\n",
        "print(Xtrain_idx[250].shape)"
      ],
      "metadata": {
        "colab": {
          "base_uri": "https://localhost:8080/"
        },
        "id": "bMPyPYkoehyt",
        "outputId": "7bc4ddc9-3940-4fa6-88b6-41c7dca96c17"
      },
      "execution_count": 22,
      "outputs": [
        {
          "output_type": "stream",
          "name": "stdout",
          "text": [
            "(13,)\n",
            "(118,)\n",
            "(1,)\n"
          ]
        }
      ]
    },
    {
      "cell_type": "code",
      "source": [
        "for i, x in enumerate(Xtrain_idx):\n",
        "  if len(x) < maxlen:\n",
        "    Xtrain_idx[i] = np.hstack((x, np.zeros(maxlen-len(x))))\n",
        "Xtrain_idx = np.array(Xtrain_idx)"
      ],
      "metadata": {
        "id": "ZyJkiKXcefVl"
      },
      "execution_count": 23,
      "outputs": []
    },
    {
      "cell_type": "code",
      "source": [
        "# maxlen = 473\n",
        "print(Xtrain_idx[0].shape)\n",
        "print(Xtrain_idx[5].shape)\n",
        "print(Xtrain_idx[250].shape)"
      ],
      "metadata": {
        "colab": {
          "base_uri": "https://localhost:8080/"
        },
        "id": "9UkyZcxjev33",
        "outputId": "8e23bf04-d778-49a7-de6b-26fa16c9ab7f"
      },
      "execution_count": 24,
      "outputs": [
        {
          "output_type": "stream",
          "name": "stdout",
          "text": [
            "(473,)\n",
            "(473,)\n",
            "(473,)\n"
          ]
        }
      ]
    },
    {
      "cell_type": "code",
      "source": [
        "Xtrain_idx.shape"
      ],
      "metadata": {
        "colab": {
          "base_uri": "https://localhost:8080/"
        },
        "id": "BIBGH3tAexEF",
        "outputId": "c40c1788-e597-49b0-a983-2997b17c5670"
      },
      "execution_count": 25,
      "outputs": [
        {
          "output_type": "execute_result",
          "data": {
            "text/plain": [
              "(23291, 473)"
            ]
          },
          "metadata": {},
          "execution_count": 25
        }
      ]
    },
    {
      "cell_type": "code",
      "source": [],
      "metadata": {
        "id": "GZ-QXvWHe2Gx"
      },
      "execution_count": 38,
      "outputs": []
    },
    {
      "cell_type": "code",
      "source": [
        "X_train, X_test, y_train, y_test = train_test_split(Xtrain_idx, Ytrain, test_size=0.3, ) #random_state=3\n",
        "\n",
        "print('X_train: ', X_train.shape)\n",
        "print('y_train: ', y_train.shape)\n",
        "\n",
        "print('X_test: ', X_test.shape)\n",
        "print('y_test: ', y_test.shape)"
      ],
      "metadata": {
        "colab": {
          "base_uri": "https://localhost:8080/"
        },
        "id": "Gh1ZfD0CfBp0",
        "outputId": "4bd3b1b6-f870-46a8-fc39-00b7d630c397"
      },
      "execution_count": 26,
      "outputs": [
        {
          "output_type": "stream",
          "name": "stdout",
          "text": [
            "X_train:  (16303, 473)\n",
            "y_train:  (16303, 3)\n",
            "X_test:  (6988, 473)\n",
            "y_test:  (6988, 3)\n"
          ]
        }
      ]
    },
    {
      "cell_type": "code",
      "source": [
        "W.shape"
      ],
      "metadata": {
        "colab": {
          "base_uri": "https://localhost:8080/"
        },
        "id": "9cAX9DFHe81k",
        "outputId": "f60aa61e-16b6-4570-fb99-8474b060eccb"
      },
      "execution_count": 27,
      "outputs": [
        {
          "output_type": "execute_result",
          "data": {
            "text/plain": [
              "(30226, 300)"
            ]
          },
          "metadata": {},
          "execution_count": 27
        }
      ]
    },
    {
      "cell_type": "code",
      "source": [
        "Class_label = 3\n",
        "\n",
        "model = Sequential()\n",
        "model.add(Embedding(W.shape[0], W.shape[1], name='embed'))\n",
        "model.add(Bidirectional(LSTM(8, return_sequences=True)))\n",
        "model.add(Bidirectional(LSTM(4)))\n",
        "model.add(Dense(64, activation='relu'))\n",
        "\n",
        "# model.add(keras.layers.Dense(2))\n",
        "# model.compile(loss=keras.losses.sparse_categorical_crossentropy, optimizer=keras.optimizers.SGD(learning_rate=1e-4))\n",
        "\n",
        "model.add(Dense(Class_label, activation='softmax'))\n",
        "model.compile(optimizer='Adam', loss='categorical_crossentropy', metrics=['categorical_accuracy'])\n",
        "# model.compile(optimizer='Adam', loss='categorical_crossentropy')\n",
        "\n",
        "model.get_layer('embed').set_weights([W])\n",
        "model.get_layer('embed').trainable = False\n",
        "model.summary()"
      ],
      "metadata": {
        "colab": {
          "base_uri": "https://localhost:8080/"
        },
        "id": "qK0bKU-6e84M",
        "outputId": "4edb7c41-cf46-48e5-f714-24cff4f0cc9f"
      },
      "execution_count": 28,
      "outputs": [
        {
          "output_type": "stream",
          "name": "stdout",
          "text": [
            "Model: \"sequential\"\n",
            "_________________________________________________________________\n",
            " Layer (type)                Output Shape              Param #   \n",
            "=================================================================\n",
            " embed (Embedding)           (None, None, 300)         9067800   \n",
            "                                                                 \n",
            " bidirectional (Bidirectiona  (None, None, 16)         19776     \n",
            " l)                                                              \n",
            "                                                                 \n",
            " bidirectional_1 (Bidirectio  (None, 8)                672       \n",
            " nal)                                                            \n",
            "                                                                 \n",
            " dense (Dense)               (None, 64)                576       \n",
            "                                                                 \n",
            " dense_1 (Dense)             (None, 3)                 195       \n",
            "                                                                 \n",
            "=================================================================\n",
            "Total params: 9,089,019\n",
            "Trainable params: 21,219\n",
            "Non-trainable params: 9,067,800\n",
            "_________________________________________________________________\n"
          ]
        }
      ]
    },
    {
      "cell_type": "code",
      "source": [
        "filepath_checkpoint = '/content/drive/MyDrive/Thai NLP sentiment analysis/Checkpoint_LSTM_TH/old/cp-0035.ckpt'\n",
        "model.load_weights(filepath_checkpoint)\n",
        "model"
      ],
      "metadata": {
        "colab": {
          "base_uri": "https://localhost:8080/"
        },
        "id": "8KrxvEfbTEM7",
        "outputId": "d7f283a8-4b33-438f-bafe-7db4ffb96ec0"
      },
      "execution_count": 29,
      "outputs": [
        {
          "output_type": "execute_result",
          "data": {
            "text/plain": [
              "<keras.engine.sequential.Sequential at 0x7d47bf9d7df0>"
            ]
          },
          "metadata": {},
          "execution_count": 29
        }
      ]
    },
    {
      "cell_type": "code",
      "source": [
        "batch_size = 32\n",
        "n_batches = len(X_train) / batch_size\n",
        "n_batches = math.ceil(n_batches)    # round up the number of batches to the nearest whole integer\n",
        "\n",
        "5*n_batches"
      ],
      "metadata": {
        "colab": {
          "base_uri": "https://localhost:8080/"
        },
        "id": "m7Ejx26Whk6d",
        "outputId": "36a935b2-d4a8-407d-ba0d-ddb470e71702"
      },
      "execution_count": 30,
      "outputs": [
        {
          "output_type": "execute_result",
          "data": {
            "text/plain": [
              "2550"
            ]
          },
          "metadata": {},
          "execution_count": 30
        }
      ]
    },
    {
      "cell_type": "code",
      "source": [
        "filepath_checkpoint = '/content/drive/MyDrive/Thai NLP sentiment analysis/Checkpoint_LSTM_TH/cp-0015.ckpt'\n",
        "model.load_weights(filepath_checkpoint)\n",
        "model"
      ],
      "metadata": {
        "colab": {
          "base_uri": "https://localhost:8080/"
        },
        "id": "ewcq2aBFhJSt",
        "outputId": "6b29cf5b-fbf0-4268-e810-731ed90bb5ca"
      },
      "execution_count": 34,
      "outputs": [
        {
          "output_type": "execute_result",
          "data": {
            "text/plain": [
              "<keras.engine.sequential.Sequential at 0x7d47bf9d7df0>"
            ]
          },
          "metadata": {},
          "execution_count": 34
        }
      ]
    },
    {
      "cell_type": "code",
      "source": [
        "# Include the epoch in the file name (uses `str.format`)\n",
        "checkpoint_path = \"/content/drive/MyDrive/Thai NLP sentiment analysis/Checkpoint_LSTM_TH/cp-{epoch:04d}.ckpt\"\n",
        "\n",
        "# Create a callback that saves the model's weights every 5 epochs\n",
        "cp_callback = tf.keras.callbacks.ModelCheckpoint(\n",
        "    filepath=checkpoint_path,\n",
        "    verbose=1,\n",
        "    save_weights_only=True,\n",
        "    save_freq=5*n_batches)\n",
        "\n",
        "# Save the weights using the `checkpoint_path` format\n",
        "model.save_weights(checkpoint_path.format(epoch=0))"
      ],
      "metadata": {
        "id": "ADJ_XZ5hhTgF"
      },
      "execution_count": 31,
      "outputs": []
    },
    {
      "cell_type": "code",
      "source": [
        "# model.fit(Xtrain_idx, np.array([0,0,0,1,1,1]), epochs=10)\n",
        "batch_size = 32\n",
        "# train โมเดล และเก็บ log\n",
        "history = model.fit(X_train, y_train, epochs=65, batch_size=batch_size, callbacks=[cp_callback],\n",
        "                    validation_data=(X_test, y_test), verbose=1, shuffle=False)"
      ],
      "metadata": {
        "colab": {
          "base_uri": "https://localhost:8080/",
          "height": 1000
        },
        "id": "bHXBI_aQg9MO",
        "outputId": "ca4d9bfd-5390-4113-fc1e-497498687c56"
      },
      "execution_count": 32,
      "outputs": [
        {
          "output_type": "stream",
          "name": "stdout",
          "text": [
            "Epoch 1/65\n",
            "510/510 [==============================] - 584s 1s/step - loss: 0.4511 - categorical_accuracy: 0.8606 - val_loss: 0.4154 - val_categorical_accuracy: 0.8651\n",
            "Epoch 2/65\n",
            "510/510 [==============================] - 542s 1s/step - loss: 0.3290 - categorical_accuracy: 0.8921 - val_loss: 0.4297 - val_categorical_accuracy: 0.8558\n",
            "Epoch 3/65\n",
            "510/510 [==============================] - 551s 1s/step - loss: 0.2797 - categorical_accuracy: 0.9096 - val_loss: 0.4588 - val_categorical_accuracy: 0.8523\n",
            "Epoch 4/65\n",
            "510/510 [==============================] - 539s 1s/step - loss: 0.2479 - categorical_accuracy: 0.9189 - val_loss: 0.4915 - val_categorical_accuracy: 0.8413\n",
            "Epoch 5/65\n",
            "509/510 [============================>.] - ETA: 0s - loss: 0.2240 - categorical_accuracy: 0.9271\n",
            "Epoch 5: saving model to /content/drive/MyDrive/Thai NLP sentiment analysis/Checkpoint_LSTM_TH/cp-0005.ckpt\n",
            "510/510 [==============================] - 536s 1s/step - loss: 0.2239 - categorical_accuracy: 0.9271 - val_loss: 0.5248 - val_categorical_accuracy: 0.8370\n",
            "Epoch 6/65\n",
            "510/510 [==============================] - 556s 1s/step - loss: 0.2105 - categorical_accuracy: 0.9309 - val_loss: 0.5585 - val_categorical_accuracy: 0.8333\n",
            "Epoch 7/65\n",
            "510/510 [==============================] - 537s 1s/step - loss: 0.1900 - categorical_accuracy: 0.9360 - val_loss: 0.5955 - val_categorical_accuracy: 0.8287\n",
            "Epoch 8/65\n",
            "510/510 [==============================] - 552s 1s/step - loss: 0.1798 - categorical_accuracy: 0.9396 - val_loss: 0.6314 - val_categorical_accuracy: 0.8213\n",
            "Epoch 9/65\n",
            "510/510 [==============================] - 540s 1s/step - loss: 0.1761 - categorical_accuracy: 0.9405 - val_loss: 0.6694 - val_categorical_accuracy: 0.8184\n",
            "Epoch 10/65\n",
            "509/510 [============================>.] - ETA: 1s - loss: 0.1685 - categorical_accuracy: 0.9438\n",
            "Epoch 10: saving model to /content/drive/MyDrive/Thai NLP sentiment analysis/Checkpoint_LSTM_TH/cp-0010.ckpt\n",
            "510/510 [==============================] - 560s 1s/step - loss: 0.1684 - categorical_accuracy: 0.9439 - val_loss: 0.6924 - val_categorical_accuracy: 0.8185\n",
            "Epoch 11/65\n",
            "510/510 [==============================] - 550s 1s/step - loss: 0.1593 - categorical_accuracy: 0.9463 - val_loss: 0.7179 - val_categorical_accuracy: 0.8133\n",
            "Epoch 12/65\n",
            "510/510 [==============================] - 527s 1s/step - loss: 0.1461 - categorical_accuracy: 0.9498 - val_loss: 0.7504 - val_categorical_accuracy: 0.8092\n",
            "Epoch 13/65\n",
            "510/510 [==============================] - 541s 1s/step - loss: 0.1383 - categorical_accuracy: 0.9513 - val_loss: 0.7775 - val_categorical_accuracy: 0.8051\n",
            "Epoch 14/65\n",
            "510/510 [==============================] - 550s 1s/step - loss: 0.1340 - categorical_accuracy: 0.9541 - val_loss: 0.7906 - val_categorical_accuracy: 0.8044\n",
            "Epoch 15/65\n",
            "509/510 [============================>.] - ETA: 0s - loss: 0.1216 - categorical_accuracy: 0.9573\n",
            "Epoch 15: saving model to /content/drive/MyDrive/Thai NLP sentiment analysis/Checkpoint_LSTM_TH/cp-0015.ckpt\n",
            "510/510 [==============================] - 536s 1s/step - loss: 0.1216 - categorical_accuracy: 0.9573 - val_loss: 0.8383 - val_categorical_accuracy: 0.8001\n",
            "Epoch 16/65\n",
            "163/510 [========>.....................] - ETA: 5:40 - loss: 0.1222 - categorical_accuracy: 0.9574"
          ]
        },
        {
          "output_type": "error",
          "ename": "KeyboardInterrupt",
          "evalue": "ignored",
          "traceback": [
            "\u001b[0;31m---------------------------------------------------------------------------\u001b[0m",
            "\u001b[0;31mKeyboardInterrupt\u001b[0m                         Traceback (most recent call last)",
            "\u001b[0;32m<ipython-input-32-2fbed34070c4>\u001b[0m in \u001b[0;36m<cell line: 4>\u001b[0;34m()\u001b[0m\n\u001b[1;32m      2\u001b[0m \u001b[0mbatch_size\u001b[0m \u001b[0;34m=\u001b[0m \u001b[0;36m32\u001b[0m\u001b[0;34m\u001b[0m\u001b[0;34m\u001b[0m\u001b[0m\n\u001b[1;32m      3\u001b[0m \u001b[0;31m# train โมเดล และเก็บ log\u001b[0m\u001b[0;34m\u001b[0m\u001b[0;34m\u001b[0m\u001b[0m\n\u001b[0;32m----> 4\u001b[0;31m history = model.fit(X_train, y_train, epochs=65, batch_size=batch_size, callbacks=[cp_callback],\n\u001b[0m\u001b[1;32m      5\u001b[0m                     validation_data=(X_test, y_test), verbose=1, shuffle=False)\n",
            "\u001b[0;32m/usr/local/lib/python3.10/dist-packages/keras/utils/traceback_utils.py\u001b[0m in \u001b[0;36merror_handler\u001b[0;34m(*args, **kwargs)\u001b[0m\n\u001b[1;32m     63\u001b[0m         \u001b[0mfiltered_tb\u001b[0m \u001b[0;34m=\u001b[0m \u001b[0;32mNone\u001b[0m\u001b[0;34m\u001b[0m\u001b[0;34m\u001b[0m\u001b[0m\n\u001b[1;32m     64\u001b[0m         \u001b[0;32mtry\u001b[0m\u001b[0;34m:\u001b[0m\u001b[0;34m\u001b[0m\u001b[0;34m\u001b[0m\u001b[0m\n\u001b[0;32m---> 65\u001b[0;31m             \u001b[0;32mreturn\u001b[0m \u001b[0mfn\u001b[0m\u001b[0;34m(\u001b[0m\u001b[0;34m*\u001b[0m\u001b[0margs\u001b[0m\u001b[0;34m,\u001b[0m \u001b[0;34m**\u001b[0m\u001b[0mkwargs\u001b[0m\u001b[0;34m)\u001b[0m\u001b[0;34m\u001b[0m\u001b[0;34m\u001b[0m\u001b[0m\n\u001b[0m\u001b[1;32m     66\u001b[0m         \u001b[0;32mexcept\u001b[0m \u001b[0mException\u001b[0m \u001b[0;32mas\u001b[0m \u001b[0me\u001b[0m\u001b[0;34m:\u001b[0m\u001b[0;34m\u001b[0m\u001b[0;34m\u001b[0m\u001b[0m\n\u001b[1;32m     67\u001b[0m             \u001b[0mfiltered_tb\u001b[0m \u001b[0;34m=\u001b[0m \u001b[0m_process_traceback_frames\u001b[0m\u001b[0;34m(\u001b[0m\u001b[0me\u001b[0m\u001b[0;34m.\u001b[0m\u001b[0m__traceback__\u001b[0m\u001b[0;34m)\u001b[0m\u001b[0;34m\u001b[0m\u001b[0;34m\u001b[0m\u001b[0m\n",
            "\u001b[0;32m/usr/local/lib/python3.10/dist-packages/keras/engine/training.py\u001b[0m in \u001b[0;36mfit\u001b[0;34m(self, x, y, batch_size, epochs, verbose, callbacks, validation_split, validation_data, shuffle, class_weight, sample_weight, initial_epoch, steps_per_epoch, validation_steps, validation_batch_size, validation_freq, max_queue_size, workers, use_multiprocessing)\u001b[0m\n\u001b[1;32m   1683\u001b[0m                         ):\n\u001b[1;32m   1684\u001b[0m                             \u001b[0mcallbacks\u001b[0m\u001b[0;34m.\u001b[0m\u001b[0mon_train_batch_begin\u001b[0m\u001b[0;34m(\u001b[0m\u001b[0mstep\u001b[0m\u001b[0;34m)\u001b[0m\u001b[0;34m\u001b[0m\u001b[0;34m\u001b[0m\u001b[0m\n\u001b[0;32m-> 1685\u001b[0;31m                             \u001b[0mtmp_logs\u001b[0m \u001b[0;34m=\u001b[0m \u001b[0mself\u001b[0m\u001b[0;34m.\u001b[0m\u001b[0mtrain_function\u001b[0m\u001b[0;34m(\u001b[0m\u001b[0miterator\u001b[0m\u001b[0;34m)\u001b[0m\u001b[0;34m\u001b[0m\u001b[0;34m\u001b[0m\u001b[0m\n\u001b[0m\u001b[1;32m   1686\u001b[0m                             \u001b[0;32mif\u001b[0m \u001b[0mdata_handler\u001b[0m\u001b[0;34m.\u001b[0m\u001b[0mshould_sync\u001b[0m\u001b[0;34m:\u001b[0m\u001b[0;34m\u001b[0m\u001b[0;34m\u001b[0m\u001b[0m\n\u001b[1;32m   1687\u001b[0m                                 \u001b[0mcontext\u001b[0m\u001b[0;34m.\u001b[0m\u001b[0masync_wait\u001b[0m\u001b[0;34m(\u001b[0m\u001b[0;34m)\u001b[0m\u001b[0;34m\u001b[0m\u001b[0;34m\u001b[0m\u001b[0m\n",
            "\u001b[0;32m/usr/local/lib/python3.10/dist-packages/tensorflow/python/util/traceback_utils.py\u001b[0m in \u001b[0;36merror_handler\u001b[0;34m(*args, **kwargs)\u001b[0m\n\u001b[1;32m    148\u001b[0m     \u001b[0mfiltered_tb\u001b[0m \u001b[0;34m=\u001b[0m \u001b[0;32mNone\u001b[0m\u001b[0;34m\u001b[0m\u001b[0;34m\u001b[0m\u001b[0m\n\u001b[1;32m    149\u001b[0m     \u001b[0;32mtry\u001b[0m\u001b[0;34m:\u001b[0m\u001b[0;34m\u001b[0m\u001b[0;34m\u001b[0m\u001b[0m\n\u001b[0;32m--> 150\u001b[0;31m       \u001b[0;32mreturn\u001b[0m \u001b[0mfn\u001b[0m\u001b[0;34m(\u001b[0m\u001b[0;34m*\u001b[0m\u001b[0margs\u001b[0m\u001b[0;34m,\u001b[0m \u001b[0;34m**\u001b[0m\u001b[0mkwargs\u001b[0m\u001b[0;34m)\u001b[0m\u001b[0;34m\u001b[0m\u001b[0;34m\u001b[0m\u001b[0m\n\u001b[0m\u001b[1;32m    151\u001b[0m     \u001b[0;32mexcept\u001b[0m \u001b[0mException\u001b[0m \u001b[0;32mas\u001b[0m \u001b[0me\u001b[0m\u001b[0;34m:\u001b[0m\u001b[0;34m\u001b[0m\u001b[0;34m\u001b[0m\u001b[0m\n\u001b[1;32m    152\u001b[0m       \u001b[0mfiltered_tb\u001b[0m \u001b[0;34m=\u001b[0m \u001b[0m_process_traceback_frames\u001b[0m\u001b[0;34m(\u001b[0m\u001b[0me\u001b[0m\u001b[0;34m.\u001b[0m\u001b[0m__traceback__\u001b[0m\u001b[0;34m)\u001b[0m\u001b[0;34m\u001b[0m\u001b[0;34m\u001b[0m\u001b[0m\n",
            "\u001b[0;32m/usr/local/lib/python3.10/dist-packages/tensorflow/python/eager/polymorphic_function/polymorphic_function.py\u001b[0m in \u001b[0;36m__call__\u001b[0;34m(self, *args, **kwds)\u001b[0m\n\u001b[1;32m    892\u001b[0m \u001b[0;34m\u001b[0m\u001b[0m\n\u001b[1;32m    893\u001b[0m       \u001b[0;32mwith\u001b[0m \u001b[0mOptionalXlaContext\u001b[0m\u001b[0;34m(\u001b[0m\u001b[0mself\u001b[0m\u001b[0;34m.\u001b[0m\u001b[0m_jit_compile\u001b[0m\u001b[0;34m)\u001b[0m\u001b[0;34m:\u001b[0m\u001b[0;34m\u001b[0m\u001b[0;34m\u001b[0m\u001b[0m\n\u001b[0;32m--> 894\u001b[0;31m         \u001b[0mresult\u001b[0m \u001b[0;34m=\u001b[0m \u001b[0mself\u001b[0m\u001b[0;34m.\u001b[0m\u001b[0m_call\u001b[0m\u001b[0;34m(\u001b[0m\u001b[0;34m*\u001b[0m\u001b[0margs\u001b[0m\u001b[0;34m,\u001b[0m \u001b[0;34m**\u001b[0m\u001b[0mkwds\u001b[0m\u001b[0;34m)\u001b[0m\u001b[0;34m\u001b[0m\u001b[0;34m\u001b[0m\u001b[0m\n\u001b[0m\u001b[1;32m    895\u001b[0m \u001b[0;34m\u001b[0m\u001b[0m\n\u001b[1;32m    896\u001b[0m       \u001b[0mnew_tracing_count\u001b[0m \u001b[0;34m=\u001b[0m \u001b[0mself\u001b[0m\u001b[0;34m.\u001b[0m\u001b[0mexperimental_get_tracing_count\u001b[0m\u001b[0;34m(\u001b[0m\u001b[0;34m)\u001b[0m\u001b[0;34m\u001b[0m\u001b[0;34m\u001b[0m\u001b[0m\n",
            "\u001b[0;32m/usr/local/lib/python3.10/dist-packages/tensorflow/python/eager/polymorphic_function/polymorphic_function.py\u001b[0m in \u001b[0;36m_call\u001b[0;34m(self, *args, **kwds)\u001b[0m\n\u001b[1;32m    924\u001b[0m       \u001b[0;31m# In this case we have created variables on the first call, so we run the\u001b[0m\u001b[0;34m\u001b[0m\u001b[0;34m\u001b[0m\u001b[0m\n\u001b[1;32m    925\u001b[0m       \u001b[0;31m# defunned version which is guaranteed to never create variables.\u001b[0m\u001b[0;34m\u001b[0m\u001b[0;34m\u001b[0m\u001b[0m\n\u001b[0;32m--> 926\u001b[0;31m       \u001b[0;32mreturn\u001b[0m \u001b[0mself\u001b[0m\u001b[0;34m.\u001b[0m\u001b[0m_no_variable_creation_fn\u001b[0m\u001b[0;34m(\u001b[0m\u001b[0;34m*\u001b[0m\u001b[0margs\u001b[0m\u001b[0;34m,\u001b[0m \u001b[0;34m**\u001b[0m\u001b[0mkwds\u001b[0m\u001b[0;34m)\u001b[0m  \u001b[0;31m# pylint: disable=not-callable\u001b[0m\u001b[0;34m\u001b[0m\u001b[0;34m\u001b[0m\u001b[0m\n\u001b[0m\u001b[1;32m    927\u001b[0m     \u001b[0;32melif\u001b[0m \u001b[0mself\u001b[0m\u001b[0;34m.\u001b[0m\u001b[0m_variable_creation_fn\u001b[0m \u001b[0;32mis\u001b[0m \u001b[0;32mnot\u001b[0m \u001b[0;32mNone\u001b[0m\u001b[0;34m:\u001b[0m\u001b[0;34m\u001b[0m\u001b[0;34m\u001b[0m\u001b[0m\n\u001b[1;32m    928\u001b[0m       \u001b[0;31m# Release the lock early so that multiple threads can perform the call\u001b[0m\u001b[0;34m\u001b[0m\u001b[0;34m\u001b[0m\u001b[0m\n",
            "\u001b[0;32m/usr/local/lib/python3.10/dist-packages/tensorflow/python/eager/polymorphic_function/tracing_compiler.py\u001b[0m in \u001b[0;36m__call__\u001b[0;34m(self, *args, **kwargs)\u001b[0m\n\u001b[1;32m    141\u001b[0m       (concrete_function,\n\u001b[1;32m    142\u001b[0m        filtered_flat_args) = self._maybe_define_function(args, kwargs)\n\u001b[0;32m--> 143\u001b[0;31m     return concrete_function._call_flat(\n\u001b[0m\u001b[1;32m    144\u001b[0m         filtered_flat_args, captured_inputs=concrete_function.captured_inputs)  # pylint: disable=protected-access\n\u001b[1;32m    145\u001b[0m \u001b[0;34m\u001b[0m\u001b[0m\n",
            "\u001b[0;32m/usr/local/lib/python3.10/dist-packages/tensorflow/python/eager/polymorphic_function/monomorphic_function.py\u001b[0m in \u001b[0;36m_call_flat\u001b[0;34m(self, args, captured_inputs, cancellation_manager)\u001b[0m\n\u001b[1;32m   1755\u001b[0m         and executing_eagerly):\n\u001b[1;32m   1756\u001b[0m       \u001b[0;31m# No tape is watching; skip to running the function.\u001b[0m\u001b[0;34m\u001b[0m\u001b[0;34m\u001b[0m\u001b[0m\n\u001b[0;32m-> 1757\u001b[0;31m       return self._build_call_outputs(self._inference_function.call(\n\u001b[0m\u001b[1;32m   1758\u001b[0m           ctx, args, cancellation_manager=cancellation_manager))\n\u001b[1;32m   1759\u001b[0m     forward_backward = self._select_forward_and_backward_functions(\n",
            "\u001b[0;32m/usr/local/lib/python3.10/dist-packages/tensorflow/python/eager/polymorphic_function/monomorphic_function.py\u001b[0m in \u001b[0;36mcall\u001b[0;34m(self, ctx, args, cancellation_manager)\u001b[0m\n\u001b[1;32m    379\u001b[0m       \u001b[0;32mwith\u001b[0m \u001b[0m_InterpolateFunctionError\u001b[0m\u001b[0;34m(\u001b[0m\u001b[0mself\u001b[0m\u001b[0;34m)\u001b[0m\u001b[0;34m:\u001b[0m\u001b[0;34m\u001b[0m\u001b[0;34m\u001b[0m\u001b[0m\n\u001b[1;32m    380\u001b[0m         \u001b[0;32mif\u001b[0m \u001b[0mcancellation_manager\u001b[0m \u001b[0;32mis\u001b[0m \u001b[0;32mNone\u001b[0m\u001b[0;34m:\u001b[0m\u001b[0;34m\u001b[0m\u001b[0;34m\u001b[0m\u001b[0m\n\u001b[0;32m--> 381\u001b[0;31m           outputs = execute.execute(\n\u001b[0m\u001b[1;32m    382\u001b[0m               \u001b[0mstr\u001b[0m\u001b[0;34m(\u001b[0m\u001b[0mself\u001b[0m\u001b[0;34m.\u001b[0m\u001b[0msignature\u001b[0m\u001b[0;34m.\u001b[0m\u001b[0mname\u001b[0m\u001b[0;34m)\u001b[0m\u001b[0;34m,\u001b[0m\u001b[0;34m\u001b[0m\u001b[0;34m\u001b[0m\u001b[0m\n\u001b[1;32m    383\u001b[0m               \u001b[0mnum_outputs\u001b[0m\u001b[0;34m=\u001b[0m\u001b[0mself\u001b[0m\u001b[0;34m.\u001b[0m\u001b[0m_num_outputs\u001b[0m\u001b[0;34m,\u001b[0m\u001b[0;34m\u001b[0m\u001b[0;34m\u001b[0m\u001b[0m\n",
            "\u001b[0;32m/usr/local/lib/python3.10/dist-packages/tensorflow/python/eager/execute.py\u001b[0m in \u001b[0;36mquick_execute\u001b[0;34m(op_name, num_outputs, inputs, attrs, ctx, name)\u001b[0m\n\u001b[1;32m     50\u001b[0m   \u001b[0;32mtry\u001b[0m\u001b[0;34m:\u001b[0m\u001b[0;34m\u001b[0m\u001b[0;34m\u001b[0m\u001b[0m\n\u001b[1;32m     51\u001b[0m     \u001b[0mctx\u001b[0m\u001b[0;34m.\u001b[0m\u001b[0mensure_initialized\u001b[0m\u001b[0;34m(\u001b[0m\u001b[0;34m)\u001b[0m\u001b[0;34m\u001b[0m\u001b[0;34m\u001b[0m\u001b[0m\n\u001b[0;32m---> 52\u001b[0;31m     tensors = pywrap_tfe.TFE_Py_Execute(ctx._handle, device_name, op_name,\n\u001b[0m\u001b[1;32m     53\u001b[0m                                         inputs, attrs, num_outputs)\n\u001b[1;32m     54\u001b[0m   \u001b[0;32mexcept\u001b[0m \u001b[0mcore\u001b[0m\u001b[0;34m.\u001b[0m\u001b[0m_NotOkStatusException\u001b[0m \u001b[0;32mas\u001b[0m \u001b[0me\u001b[0m\u001b[0;34m:\u001b[0m\u001b[0;34m\u001b[0m\u001b[0;34m\u001b[0m\u001b[0m\n",
            "\u001b[0;31mKeyboardInterrupt\u001b[0m: "
          ]
        }
      ]
    },
    {
      "cell_type": "code",
      "source": [
        "model.save('/content/drive/MyDrive/Thai NLP sentiment analysis/Checkpoint_LSTM_TH/LSTM_PONth35_50.h5')"
      ],
      "metadata": {
        "id": "T2uj_H0biGgK"
      },
      "execution_count": 35,
      "outputs": []
    },
    {
      "cell_type": "code",
      "source": [
        "# พล็อตค่า train&test loss\n",
        "pyplot.plot(history.history['loss'], label='train')\n",
        "pyplot.plot(history.history['val_loss'], label='test')\n",
        "pyplot.legend()\n",
        "pyplot.show()"
      ],
      "metadata": {
        "id": "_WQFrUNyh49V"
      },
      "execution_count": null,
      "outputs": []
    },
    {
      "cell_type": "code",
      "source": [
        "pyplot.plot(history.history['loss'], label='train_loss')\n",
        "pyplot.plot(history.history['categorical_accuracy'], label='categorical_accuracy')\n",
        "pyplot.legend()\n",
        "pyplot.show()"
      ],
      "metadata": {
        "id": "EfhqQK-Vh6N1"
      },
      "execution_count": null,
      "outputs": []
    },
    {
      "cell_type": "code",
      "source": [
        "## ------------- TEST Model ------------- ##"
      ],
      "metadata": {
        "id": "WMwrh3BS4pFh"
      },
      "execution_count": null,
      "outputs": []
    },
    {
      "cell_type": "code",
      "source": [
        "model_LSTMth_PON = load_model('/content/drive/MyDrive/Thai NLP sentiment analysis/Checkpoint_LSTM_TH/LSTM_PONth35_50.h5')"
      ],
      "metadata": {
        "colab": {
          "base_uri": "https://localhost:8080/"
        },
        "id": "zWZzH4AvqMCf",
        "outputId": "aac77cd3-73cd-4761-98ed-9fa31e20014c"
      },
      "execution_count": 36,
      "outputs": [
        {
          "output_type": "stream",
          "name": "stderr",
          "text": [
            "WARNING:tensorflow:Error in loading the saved optimizer state. As a result, your model is starting with a freshly initialized optimizer.\n"
          ]
        }
      ]
    },
    {
      "cell_type": "code",
      "source": [
        "## ------------- X_test = Validation Set ------------- ##\n",
        "yhat = model_LSTMth_PON.predict(X_test)\n",
        "\n",
        "ytrue = np.argmax(y_test, axis=1).tolist()\n",
        "yhat = np.argmax(yhat, axis=1).tolist()\n",
        "\n",
        "# multilabel_confusion_matrix(ytrue, yhat)\n",
        "accuracy_score(ytrue, yhat)"
      ],
      "metadata": {
        "colab": {
          "base_uri": "https://localhost:8080/"
        },
        "id": "zmhXF-ot4w7S",
        "outputId": "8ba6e3a0-398c-4301-9472-184439cf186a"
      },
      "execution_count": 42,
      "outputs": [
        {
          "output_type": "stream",
          "name": "stdout",
          "text": [
            "219/219 [==============================] - 40s 184ms/step\n"
          ]
        },
        {
          "output_type": "execute_result",
          "data": {
            "text/plain": [
              "0.8000858614768174"
            ]
          },
          "metadata": {},
          "execution_count": 42
        }
      ]
    },
    {
      "cell_type": "code",
      "source": [
        "X_test.shape"
      ],
      "metadata": {
        "colab": {
          "base_uri": "https://localhost:8080/"
        },
        "id": "PnWZ80Zm5q8i",
        "outputId": "3e362134-64d3-4dd3-dc2d-d085e84b8ef4"
      },
      "execution_count": 50,
      "outputs": [
        {
          "output_type": "execute_result",
          "data": {
            "text/plain": [
              "(6988, 473)"
            ]
          },
          "metadata": {},
          "execution_count": 50
        }
      ]
    },
    {
      "cell_type": "code",
      "source": [
        "X_test[0]"
      ],
      "metadata": {
        "colab": {
          "base_uri": "https://localhost:8080/"
        },
        "id": "qGWoO2Il5tZJ",
        "outputId": "27c6bab4-2bf7-4bd2-e9e5-4d0f86861feb"
      },
      "execution_count": 51,
      "outputs": [
        {
          "output_type": "execute_result",
          "data": {
            "text/plain": [
              "array([ 260.,  599.,  422., 1264.,  201.,  178.,  202.,    0.,    0.,\n",
              "          0.,    0.,    0.,    0.,    0.,    0.,    0.,    0.,    0.,\n",
              "          0.,    0.,    0.,    0.,    0.,    0.,    0.,    0.,    0.,\n",
              "          0.,    0.,    0.,    0.,    0.,    0.,    0.,    0.,    0.,\n",
              "          0.,    0.,    0.,    0.,    0.,    0.,    0.,    0.,    0.,\n",
              "          0.,    0.,    0.,    0.,    0.,    0.,    0.,    0.,    0.,\n",
              "          0.,    0.,    0.,    0.,    0.,    0.,    0.,    0.,    0.,\n",
              "          0.,    0.,    0.,    0.,    0.,    0.,    0.,    0.,    0.,\n",
              "          0.,    0.,    0.,    0.,    0.,    0.,    0.,    0.,    0.,\n",
              "          0.,    0.,    0.,    0.,    0.,    0.,    0.,    0.,    0.,\n",
              "          0.,    0.,    0.,    0.,    0.,    0.,    0.,    0.,    0.,\n",
              "          0.,    0.,    0.,    0.,    0.,    0.,    0.,    0.,    0.,\n",
              "          0.,    0.,    0.,    0.,    0.,    0.,    0.,    0.,    0.,\n",
              "          0.,    0.,    0.,    0.,    0.,    0.,    0.,    0.,    0.,\n",
              "          0.,    0.,    0.,    0.,    0.,    0.,    0.,    0.,    0.,\n",
              "          0.,    0.,    0.,    0.,    0.,    0.,    0.,    0.,    0.,\n",
              "          0.,    0.,    0.,    0.,    0.,    0.,    0.,    0.,    0.,\n",
              "          0.,    0.,    0.,    0.,    0.,    0.,    0.,    0.,    0.,\n",
              "          0.,    0.,    0.,    0.,    0.,    0.,    0.,    0.,    0.,\n",
              "          0.,    0.,    0.,    0.,    0.,    0.,    0.,    0.,    0.,\n",
              "          0.,    0.,    0.,    0.,    0.,    0.,    0.,    0.,    0.,\n",
              "          0.,    0.,    0.,    0.,    0.,    0.,    0.,    0.,    0.,\n",
              "          0.,    0.,    0.,    0.,    0.,    0.,    0.,    0.,    0.,\n",
              "          0.,    0.,    0.,    0.,    0.,    0.,    0.,    0.,    0.,\n",
              "          0.,    0.,    0.,    0.,    0.,    0.,    0.,    0.,    0.,\n",
              "          0.,    0.,    0.,    0.,    0.,    0.,    0.,    0.,    0.,\n",
              "          0.,    0.,    0.,    0.,    0.,    0.,    0.,    0.,    0.,\n",
              "          0.,    0.,    0.,    0.,    0.,    0.,    0.,    0.,    0.,\n",
              "          0.,    0.,    0.,    0.,    0.,    0.,    0.,    0.,    0.,\n",
              "          0.,    0.,    0.,    0.,    0.,    0.,    0.,    0.,    0.,\n",
              "          0.,    0.,    0.,    0.,    0.,    0.,    0.,    0.,    0.,\n",
              "          0.,    0.,    0.,    0.,    0.,    0.,    0.,    0.,    0.,\n",
              "          0.,    0.,    0.,    0.,    0.,    0.,    0.,    0.,    0.,\n",
              "          0.,    0.,    0.,    0.,    0.,    0.,    0.,    0.,    0.,\n",
              "          0.,    0.,    0.,    0.,    0.,    0.,    0.,    0.,    0.,\n",
              "          0.,    0.,    0.,    0.,    0.,    0.,    0.,    0.,    0.,\n",
              "          0.,    0.,    0.,    0.,    0.,    0.,    0.,    0.,    0.,\n",
              "          0.,    0.,    0.,    0.,    0.,    0.,    0.,    0.,    0.,\n",
              "          0.,    0.,    0.,    0.,    0.,    0.,    0.,    0.,    0.,\n",
              "          0.,    0.,    0.,    0.,    0.,    0.,    0.,    0.,    0.,\n",
              "          0.,    0.,    0.,    0.,    0.,    0.,    0.,    0.,    0.,\n",
              "          0.,    0.,    0.,    0.,    0.,    0.,    0.,    0.,    0.,\n",
              "          0.,    0.,    0.,    0.,    0.,    0.,    0.,    0.,    0.,\n",
              "          0.,    0.,    0.,    0.,    0.,    0.,    0.,    0.,    0.,\n",
              "          0.,    0.,    0.,    0.,    0.,    0.,    0.,    0.,    0.,\n",
              "          0.,    0.,    0.,    0.,    0.,    0.,    0.,    0.,    0.,\n",
              "          0.,    0.,    0.,    0.,    0.,    0.,    0.,    0.,    0.,\n",
              "          0.,    0.,    0.,    0.,    0.,    0.,    0.,    0.,    0.,\n",
              "          0.,    0.,    0.,    0.,    0.,    0.,    0.,    0.,    0.,\n",
              "          0.,    0.,    0.,    0.,    0.,    0.,    0.,    0.,    0.,\n",
              "          0.,    0.,    0.,    0.,    0.,    0.,    0.,    0.,    0.,\n",
              "          0.,    0.,    0.,    0.,    0.,    0.,    0.,    0.,    0.,\n",
              "          0.,    0.,    0.,    0.,    0.])"
            ]
          },
          "metadata": {},
          "execution_count": 51
        }
      ]
    },
    {
      "cell_type": "code",
      "source": [
        "sent2idx('สวัสดีครับ')"
      ],
      "metadata": {
        "colab": {
          "base_uri": "https://localhost:8080/"
        },
        "id": "va03MI4669X6",
        "outputId": "d7ddbc90-b194-4ac9-a00d-3b368428e5d2"
      },
      "execution_count": 63,
      "outputs": [
        {
          "output_type": "execute_result",
          "data": {
            "text/plain": [
              "array([4741,  347])"
            ]
          },
          "metadata": {},
          "execution_count": 63
        }
      ]
    },
    {
      "cell_type": "code",
      "source": [
        "Xtest = ['กูท้อมากหดหู่ฉิบหาย', 'สวัสดีครับ', 'ราคาดีอร่อยมาก', 'สินค้ามีการรับประกันดีมาก']\n",
        "# X_test_text = ['สวัสดี','ทดสอบ','ทดทรมาน','โง่มาก', 'กูท้อมาก', 'หดหู่ฉิบหาย','เหี้ยที่สุด','เออไม่กินแล้ว','ขอบคุณจ้า','ทำดีมาก']\n",
        "\n",
        "Xtest_idx = []\n",
        "for x in Xtest:\n",
        "  #print(x)\n",
        "  Xtest_idx.append(sent2idx(x))\n",
        "  # print('Xtest_idx: ',Xtest_idx)\n",
        "  if len(Xtest_idx[-1]) > maxlen:\n",
        "    Xtest_idx[-1] =  Xtest_idx[-1][:maxlen]\n",
        "  else:\n",
        "    Xtest_idx[-1] = np.hstack((Xtest_idx[-1], np.zeros(maxlen-len(Xtest_idx[-1]))))\n",
        "Xtest_idx = np.array(Xtest_idx)\n",
        "\n",
        "# Xtest_idx_ = Xtest_idx.reshape((Xtest_idx.shape[0], -1))"
      ],
      "metadata": {
        "id": "6NVV0Fw0qdS9"
      },
      "execution_count": 145,
      "outputs": []
    },
    {
      "cell_type": "code",
      "source": [
        "# predict_Text = model.predict(Xtest_idx)#.argmax(axis=1)\n",
        "dic_label = {0:'neutral', 1:'negative', 2:'positive'}\n",
        "yhat_P = model_LSTMth_PON.predict(Xtest_idx)\n",
        "\n",
        "print(yhat_P)\n",
        "for i, Value in enumerate(yhat_P):\n",
        "  print(Xtest[i])\n",
        "  print(np.argmax(Value))\n",
        "  print('Predicted value is =', dic_label[np.argmax(Value)])\n",
        "  print('--------')"
      ],
      "metadata": {
        "colab": {
          "base_uri": "https://localhost:8080/"
        },
        "id": "ZMiy6fkFqw9e",
        "outputId": "88ad6830-9ec9-4ab2-d2ed-79677eb7898f"
      },
      "execution_count": 146,
      "outputs": [
        {
          "output_type": "stream",
          "name": "stdout",
          "text": [
            "1/1 [==============================] - 0s 98ms/step\n",
            "[[7.6714758e-04 9.9856025e-01 6.7260931e-04]\n",
            " [9.9991834e-01 2.0422029e-05 6.1256353e-05]\n",
            " [9.9662328e-01 2.2942836e-04 3.1473471e-03]\n",
            " [2.8464636e-01 4.0888037e-03 7.1126485e-01]]\n",
            "กูท้อมากหดหู่ฉิบหาย\n",
            "1\n",
            "Predicted value is = negative\n",
            "--------\n",
            "สวัสดีครับ\n",
            "0\n",
            "Predicted value is = neutral\n",
            "--------\n",
            "ราคาดีอร่อยมาก\n",
            "0\n",
            "Predicted value is = neutral\n",
            "--------\n",
            "สินค้ามีการรับประกันดีมาก\n",
            "2\n",
            "Predicted value is = positive\n",
            "--------\n"
          ]
        }
      ]
    },
    {
      "cell_type": "code",
      "source": [
        "## ------------- X_test = Test Set ไม่เคยเห็นมาก่อน ------------- ##"
      ],
      "metadata": {
        "id": "HRoq1vp9FLRi"
      },
      "execution_count": null,
      "outputs": []
    },
    {
      "cell_type": "code",
      "source": [
        "messages_Test = pd.read_csv('/content/drive/MyDrive/Thai NLP sentiment analysis/Dataset/Test01_Clear.csv')# [:5000]\n",
        "messages_Test"
      ],
      "metadata": {
        "colab": {
          "base_uri": "https://localhost:8080/",
          "height": 423
        },
        "id": "sFaPCYMzFMSc",
        "outputId": "bbe51660-1fc7-4033-eb9e-b338fce30f4c"
      },
      "execution_count": 147,
      "outputs": [
        {
          "output_type": "execute_result",
          "data": {
            "text/plain": [
              "      Unnamed: 0     Class                                               Text\n",
              "0              0  negative  ซื้อ แต่ ผ้าอนามัย แบบ เย็น มา ค่ะ แบบ ว่า อี ...\n",
              "1              1   neutral                                               ครับ\n",
              "2              2  negative  การ ด่า ไป เหมือน ได้ บรรเทา ความเครียด เฉย แต...\n",
              "3              3   neutral                                                ขวด\n",
              "4              4   neutral  ทาน ได้ ค่ะ น้ำ ซุป ต้ม มาจาก หัวผักกาด ซีอิ้ว...\n",
              "...          ...       ...                                                ...\n",
              "2584        2669  positive  เล็ก ลงมา แต่ ดี เท่าเดิม แวะ มาหา ได้ที่ เซเว...\n",
              "2585        2670   neutral  แพนด้า ซิ่ง กับ มุมมอง ที่ แตกต่าง อย่าง ลงตัว...\n",
              "2586        2671  positive                                        ไป เถอะ ดอม\n",
              "2587        2672   neutral                     เจมส์ บอนด์ ขับ โตโยต้า อัลติส\n",
              "2588        2673   neutral                            จัด สิ ค่ะ บาร์ บี ก้อน\n",
              "\n",
              "[2589 rows x 3 columns]"
            ],
            "text/html": [
              "\n",
              "  <div id=\"df-5489e631-bc82-42a6-a104-80739ee23dfc\" class=\"colab-df-container\">\n",
              "    <div>\n",
              "<style scoped>\n",
              "    .dataframe tbody tr th:only-of-type {\n",
              "        vertical-align: middle;\n",
              "    }\n",
              "\n",
              "    .dataframe tbody tr th {\n",
              "        vertical-align: top;\n",
              "    }\n",
              "\n",
              "    .dataframe thead th {\n",
              "        text-align: right;\n",
              "    }\n",
              "</style>\n",
              "<table border=\"1\" class=\"dataframe\">\n",
              "  <thead>\n",
              "    <tr style=\"text-align: right;\">\n",
              "      <th></th>\n",
              "      <th>Unnamed: 0</th>\n",
              "      <th>Class</th>\n",
              "      <th>Text</th>\n",
              "    </tr>\n",
              "  </thead>\n",
              "  <tbody>\n",
              "    <tr>\n",
              "      <th>0</th>\n",
              "      <td>0</td>\n",
              "      <td>negative</td>\n",
              "      <td>ซื้อ แต่ ผ้าอนามัย แบบ เย็น มา ค่ะ แบบ ว่า อี ...</td>\n",
              "    </tr>\n",
              "    <tr>\n",
              "      <th>1</th>\n",
              "      <td>1</td>\n",
              "      <td>neutral</td>\n",
              "      <td>ครับ</td>\n",
              "    </tr>\n",
              "    <tr>\n",
              "      <th>2</th>\n",
              "      <td>2</td>\n",
              "      <td>negative</td>\n",
              "      <td>การ ด่า ไป เหมือน ได้ บรรเทา ความเครียด เฉย แต...</td>\n",
              "    </tr>\n",
              "    <tr>\n",
              "      <th>3</th>\n",
              "      <td>3</td>\n",
              "      <td>neutral</td>\n",
              "      <td>ขวด</td>\n",
              "    </tr>\n",
              "    <tr>\n",
              "      <th>4</th>\n",
              "      <td>4</td>\n",
              "      <td>neutral</td>\n",
              "      <td>ทาน ได้ ค่ะ น้ำ ซุป ต้ม มาจาก หัวผักกาด ซีอิ้ว...</td>\n",
              "    </tr>\n",
              "    <tr>\n",
              "      <th>...</th>\n",
              "      <td>...</td>\n",
              "      <td>...</td>\n",
              "      <td>...</td>\n",
              "    </tr>\n",
              "    <tr>\n",
              "      <th>2584</th>\n",
              "      <td>2669</td>\n",
              "      <td>positive</td>\n",
              "      <td>เล็ก ลงมา แต่ ดี เท่าเดิม แวะ มาหา ได้ที่ เซเว...</td>\n",
              "    </tr>\n",
              "    <tr>\n",
              "      <th>2585</th>\n",
              "      <td>2670</td>\n",
              "      <td>neutral</td>\n",
              "      <td>แพนด้า ซิ่ง กับ มุมมอง ที่ แตกต่าง อย่าง ลงตัว...</td>\n",
              "    </tr>\n",
              "    <tr>\n",
              "      <th>2586</th>\n",
              "      <td>2671</td>\n",
              "      <td>positive</td>\n",
              "      <td>ไป เถอะ ดอม</td>\n",
              "    </tr>\n",
              "    <tr>\n",
              "      <th>2587</th>\n",
              "      <td>2672</td>\n",
              "      <td>neutral</td>\n",
              "      <td>เจมส์ บอนด์ ขับ โตโยต้า อัลติส</td>\n",
              "    </tr>\n",
              "    <tr>\n",
              "      <th>2588</th>\n",
              "      <td>2673</td>\n",
              "      <td>neutral</td>\n",
              "      <td>จัด สิ ค่ะ บาร์ บี ก้อน</td>\n",
              "    </tr>\n",
              "  </tbody>\n",
              "</table>\n",
              "<p>2589 rows × 3 columns</p>\n",
              "</div>\n",
              "    <div class=\"colab-df-buttons\">\n",
              "\n",
              "  <div class=\"colab-df-container\">\n",
              "    <button class=\"colab-df-convert\" onclick=\"convertToInteractive('df-5489e631-bc82-42a6-a104-80739ee23dfc')\"\n",
              "            title=\"Convert this dataframe to an interactive table.\"\n",
              "            style=\"display:none;\">\n",
              "\n",
              "  <svg xmlns=\"http://www.w3.org/2000/svg\" height=\"24px\" viewBox=\"0 -960 960 960\">\n",
              "    <path d=\"M120-120v-720h720v720H120Zm60-500h600v-160H180v160Zm220 220h160v-160H400v160Zm0 220h160v-160H400v160ZM180-400h160v-160H180v160Zm440 0h160v-160H620v160ZM180-180h160v-160H180v160Zm440 0h160v-160H620v160Z\"/>\n",
              "  </svg>\n",
              "    </button>\n",
              "\n",
              "  <style>\n",
              "    .colab-df-container {\n",
              "      display:flex;\n",
              "      gap: 12px;\n",
              "    }\n",
              "\n",
              "    .colab-df-convert {\n",
              "      background-color: #E8F0FE;\n",
              "      border: none;\n",
              "      border-radius: 50%;\n",
              "      cursor: pointer;\n",
              "      display: none;\n",
              "      fill: #1967D2;\n",
              "      height: 32px;\n",
              "      padding: 0 0 0 0;\n",
              "      width: 32px;\n",
              "    }\n",
              "\n",
              "    .colab-df-convert:hover {\n",
              "      background-color: #E2EBFA;\n",
              "      box-shadow: 0px 1px 2px rgba(60, 64, 67, 0.3), 0px 1px 3px 1px rgba(60, 64, 67, 0.15);\n",
              "      fill: #174EA6;\n",
              "    }\n",
              "\n",
              "    .colab-df-buttons div {\n",
              "      margin-bottom: 4px;\n",
              "    }\n",
              "\n",
              "    [theme=dark] .colab-df-convert {\n",
              "      background-color: #3B4455;\n",
              "      fill: #D2E3FC;\n",
              "    }\n",
              "\n",
              "    [theme=dark] .colab-df-convert:hover {\n",
              "      background-color: #434B5C;\n",
              "      box-shadow: 0px 1px 3px 1px rgba(0, 0, 0, 0.15);\n",
              "      filter: drop-shadow(0px 1px 2px rgba(0, 0, 0, 0.3));\n",
              "      fill: #FFFFFF;\n",
              "    }\n",
              "  </style>\n",
              "\n",
              "    <script>\n",
              "      const buttonEl =\n",
              "        document.querySelector('#df-5489e631-bc82-42a6-a104-80739ee23dfc button.colab-df-convert');\n",
              "      buttonEl.style.display =\n",
              "        google.colab.kernel.accessAllowed ? 'block' : 'none';\n",
              "\n",
              "      async function convertToInteractive(key) {\n",
              "        const element = document.querySelector('#df-5489e631-bc82-42a6-a104-80739ee23dfc');\n",
              "        const dataTable =\n",
              "          await google.colab.kernel.invokeFunction('convertToInteractive',\n",
              "                                                    [key], {});\n",
              "        if (!dataTable) return;\n",
              "\n",
              "        const docLinkHtml = 'Like what you see? Visit the ' +\n",
              "          '<a target=\"_blank\" href=https://colab.research.google.com/notebooks/data_table.ipynb>data table notebook</a>'\n",
              "          + ' to learn more about interactive tables.';\n",
              "        element.innerHTML = '';\n",
              "        dataTable['output_type'] = 'display_data';\n",
              "        await google.colab.output.renderOutput(dataTable, element);\n",
              "        const docLink = document.createElement('div');\n",
              "        docLink.innerHTML = docLinkHtml;\n",
              "        element.appendChild(docLink);\n",
              "      }\n",
              "    </script>\n",
              "  </div>\n",
              "\n",
              "\n",
              "<div id=\"df-ad5581b7-93d2-42e0-b88b-e9c76b48733b\">\n",
              "  <button class=\"colab-df-quickchart\" onclick=\"quickchart('df-ad5581b7-93d2-42e0-b88b-e9c76b48733b')\"\n",
              "            title=\"Suggest charts\"\n",
              "            style=\"display:none;\">\n",
              "\n",
              "<svg xmlns=\"http://www.w3.org/2000/svg\" height=\"24px\"viewBox=\"0 0 24 24\"\n",
              "     width=\"24px\">\n",
              "    <g>\n",
              "        <path d=\"M19 3H5c-1.1 0-2 .9-2 2v14c0 1.1.9 2 2 2h14c1.1 0 2-.9 2-2V5c0-1.1-.9-2-2-2zM9 17H7v-7h2v7zm4 0h-2V7h2v10zm4 0h-2v-4h2v4z\"/>\n",
              "    </g>\n",
              "</svg>\n",
              "  </button>\n",
              "\n",
              "<style>\n",
              "  .colab-df-quickchart {\n",
              "      --bg-color: #E8F0FE;\n",
              "      --fill-color: #1967D2;\n",
              "      --hover-bg-color: #E2EBFA;\n",
              "      --hover-fill-color: #174EA6;\n",
              "      --disabled-fill-color: #AAA;\n",
              "      --disabled-bg-color: #DDD;\n",
              "  }\n",
              "\n",
              "  [theme=dark] .colab-df-quickchart {\n",
              "      --bg-color: #3B4455;\n",
              "      --fill-color: #D2E3FC;\n",
              "      --hover-bg-color: #434B5C;\n",
              "      --hover-fill-color: #FFFFFF;\n",
              "      --disabled-bg-color: #3B4455;\n",
              "      --disabled-fill-color: #666;\n",
              "  }\n",
              "\n",
              "  .colab-df-quickchart {\n",
              "    background-color: var(--bg-color);\n",
              "    border: none;\n",
              "    border-radius: 50%;\n",
              "    cursor: pointer;\n",
              "    display: none;\n",
              "    fill: var(--fill-color);\n",
              "    height: 32px;\n",
              "    padding: 0;\n",
              "    width: 32px;\n",
              "  }\n",
              "\n",
              "  .colab-df-quickchart:hover {\n",
              "    background-color: var(--hover-bg-color);\n",
              "    box-shadow: 0 1px 2px rgba(60, 64, 67, 0.3), 0 1px 3px 1px rgba(60, 64, 67, 0.15);\n",
              "    fill: var(--button-hover-fill-color);\n",
              "  }\n",
              "\n",
              "  .colab-df-quickchart-complete:disabled,\n",
              "  .colab-df-quickchart-complete:disabled:hover {\n",
              "    background-color: var(--disabled-bg-color);\n",
              "    fill: var(--disabled-fill-color);\n",
              "    box-shadow: none;\n",
              "  }\n",
              "\n",
              "  .colab-df-spinner {\n",
              "    border: 2px solid var(--fill-color);\n",
              "    border-color: transparent;\n",
              "    border-bottom-color: var(--fill-color);\n",
              "    animation:\n",
              "      spin 1s steps(1) infinite;\n",
              "  }\n",
              "\n",
              "  @keyframes spin {\n",
              "    0% {\n",
              "      border-color: transparent;\n",
              "      border-bottom-color: var(--fill-color);\n",
              "      border-left-color: var(--fill-color);\n",
              "    }\n",
              "    20% {\n",
              "      border-color: transparent;\n",
              "      border-left-color: var(--fill-color);\n",
              "      border-top-color: var(--fill-color);\n",
              "    }\n",
              "    30% {\n",
              "      border-color: transparent;\n",
              "      border-left-color: var(--fill-color);\n",
              "      border-top-color: var(--fill-color);\n",
              "      border-right-color: var(--fill-color);\n",
              "    }\n",
              "    40% {\n",
              "      border-color: transparent;\n",
              "      border-right-color: var(--fill-color);\n",
              "      border-top-color: var(--fill-color);\n",
              "    }\n",
              "    60% {\n",
              "      border-color: transparent;\n",
              "      border-right-color: var(--fill-color);\n",
              "    }\n",
              "    80% {\n",
              "      border-color: transparent;\n",
              "      border-right-color: var(--fill-color);\n",
              "      border-bottom-color: var(--fill-color);\n",
              "    }\n",
              "    90% {\n",
              "      border-color: transparent;\n",
              "      border-bottom-color: var(--fill-color);\n",
              "    }\n",
              "  }\n",
              "</style>\n",
              "\n",
              "  <script>\n",
              "    async function quickchart(key) {\n",
              "      const quickchartButtonEl =\n",
              "        document.querySelector('#' + key + ' button');\n",
              "      quickchartButtonEl.disabled = true;  // To prevent multiple clicks.\n",
              "      quickchartButtonEl.classList.add('colab-df-spinner');\n",
              "      try {\n",
              "        const charts = await google.colab.kernel.invokeFunction(\n",
              "            'suggestCharts', [key], {});\n",
              "      } catch (error) {\n",
              "        console.error('Error during call to suggestCharts:', error);\n",
              "      }\n",
              "      quickchartButtonEl.classList.remove('colab-df-spinner');\n",
              "      quickchartButtonEl.classList.add('colab-df-quickchart-complete');\n",
              "    }\n",
              "    (() => {\n",
              "      let quickchartButtonEl =\n",
              "        document.querySelector('#df-ad5581b7-93d2-42e0-b88b-e9c76b48733b button');\n",
              "      quickchartButtonEl.style.display =\n",
              "        google.colab.kernel.accessAllowed ? 'block' : 'none';\n",
              "    })();\n",
              "  </script>\n",
              "</div>\n",
              "    </div>\n",
              "  </div>\n"
            ]
          },
          "metadata": {},
          "execution_count": 147
        }
      ]
    },
    {
      "cell_type": "code",
      "source": [
        "messages_Test['Class onthot']=messages_Test['Class'].map({'neutral':0, 'negative':1, 'positive':2})\n",
        "\n",
        "YY_Test = np.array(messages_Test['Class onthot'])\n",
        "NUM_CLASSES = len(np.unique(YY_Test))\n",
        "print('NUM_CLASSES: ', NUM_CLASSES)\n",
        "\n",
        "# YY = YY.reshape((YY.shape[0], 1)) # 100, 21, 63\n",
        "\n",
        "YTest = to_categorical(YY_Test).astype(int)\n",
        "print(YTest.shape)\n",
        "print(YTest)"
      ],
      "metadata": {
        "colab": {
          "base_uri": "https://localhost:8080/"
        },
        "id": "mSsAXkFTGLvi",
        "outputId": "8c983270-45c5-4161-e393-7de21589ae5e"
      },
      "execution_count": 152,
      "outputs": [
        {
          "output_type": "stream",
          "name": "stdout",
          "text": [
            "NUM_CLASSES:  3\n",
            "(2589, 3)\n",
            "[[0 1 0]\n",
            " [1 0 0]\n",
            " [0 1 0]\n",
            " ...\n",
            " [0 0 1]\n",
            " [1 0 0]\n",
            " [1 0 0]]\n"
          ]
        }
      ]
    },
    {
      "cell_type": "code",
      "source": [
        "XTest = messages_Test['Text'].tolist()\n",
        "XTest[:5]"
      ],
      "metadata": {
        "colab": {
          "base_uri": "https://localhost:8080/"
        },
        "id": "ygWridWRFXCS",
        "outputId": "66024e51-d274-4e00-f76a-4cb20bb51eb7"
      },
      "execution_count": 148,
      "outputs": [
        {
          "output_type": "execute_result",
          "data": {
            "text/plain": [
              "['ซื้อ แต่ ผ้าอนามัย แบบ เย็น มา ค่ะ แบบ ว่า อี ห่า กู นอน ไม่ ได้',\n",
              " 'ครับ',\n",
              " 'การ ด่า ไป เหมือน ได้ บรรเทา ความเครียด เฉย แต่ บีทีเอส รถไฟฟ้า มัน สำนึก มั้ย ก็ ไม่ อ่ะ',\n",
              " 'ขวด',\n",
              " 'ทาน ได้ ค่ะ น้ำ ซุป ต้ม มาจาก หัวผักกาด ซีอิ้ว ขาว เกลือ แล น้ำตาล ค่ะ']"
            ]
          },
          "metadata": {},
          "execution_count": 148
        }
      ]
    },
    {
      "cell_type": "code",
      "source": [
        "XTest_idx = []\n",
        "for x in XTest:\n",
        "  #print(x)\n",
        "  XTest_idx.append(sent2idx(x))\n",
        "  # print('Xtest_idx: ',Xtest_idx)\n",
        "  if len(XTest_idx[-1]) > maxlen:\n",
        "    XTest_idx[-1] =  XTest_idx[-1][:maxlen]\n",
        "  else:\n",
        "    XTest_idx[-1] = np.hstack((XTest_idx[-1], np.zeros(maxlen-len(XTest_idx[-1]))))\n",
        "XTest_idx = np.array(XTest_idx)\n",
        "print(XTest_idx.shape)"
      ],
      "metadata": {
        "colab": {
          "base_uri": "https://localhost:8080/"
        },
        "id": "AuWS5dXoFeBh",
        "outputId": "55a32f0d-3344-4cba-eef7-69dadf1a861c"
      },
      "execution_count": 151,
      "outputs": [
        {
          "output_type": "stream",
          "name": "stdout",
          "text": [
            "(2589, 473)\n"
          ]
        }
      ]
    },
    {
      "cell_type": "code",
      "source": [
        "yTest_hat = model_LSTMth_PON.predict(XTest_idx)\n",
        "\n",
        "yTest_true = np.argmax(YTest, axis=1).tolist()\n",
        "yTest_hat = np.argmax(yTest_hat, axis=1).tolist()\n",
        "\n",
        "# multilabel_confusion_matrix(ytrue, yhat)\n",
        "accuracy_score(yTest_true, yTest_hat)"
      ],
      "metadata": {
        "colab": {
          "base_uri": "https://localhost:8080/"
        },
        "id": "r5Pzu2kJEhnZ",
        "outputId": "00822a08-fcf0-4a51-caf3-24ee78b27d3b"
      },
      "execution_count": 153,
      "outputs": [
        {
          "output_type": "stream",
          "name": "stdout",
          "text": [
            "81/81 [==============================] - 17s 203ms/step\n"
          ]
        },
        {
          "output_type": "execute_result",
          "data": {
            "text/plain": [
              "0.5098493626882966"
            ]
          },
          "metadata": {},
          "execution_count": 153
        }
      ]
    },
    {
      "cell_type": "code",
      "source": [],
      "metadata": {
        "id": "gmPDUbbDEhpx"
      },
      "execution_count": null,
      "outputs": []
    }
  ]
}